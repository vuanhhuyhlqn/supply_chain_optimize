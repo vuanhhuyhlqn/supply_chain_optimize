{
 "cells": [
  {
   "cell_type": "code",
   "execution_count": 180,
   "id": "7391dbf4",
   "metadata": {},
   "outputs": [
    {
     "name": "stdout",
     "output_type": "stream",
     "text": [
      "The autoreload extension is already loaded. To reload it, use:\n",
      "  %reload_ext autoreload\n"
     ]
    }
   ],
   "source": [
    "%load_ext autoreload\n",
    "%autoreload 2\n",
    "import numpy as np\n",
    "from entity import Entity\n",
    "from task import Task\n",
    "from plant import Plant\n",
    "from dc import DC\n",
    "from retailer import Retailer\n",
    "from customer import Customer\n",
    "from indi import Individual\n",
    "from crossover import *\n",
    "from mutation import *\n",
    "from GA import Model\n",
    "from task_gen import *"
   ]
  },
  {
   "cell_type": "code",
   "execution_count": 186,
   "id": "dc91d607",
   "metadata": {},
   "outputs": [],
   "source": [
    "task_gen = TaskGenerator(5)\n",
    "task_gen.compile(num_plants=2,\n",
    "                 num_dcs=5,\n",
    "                 num_retailers=8,\n",
    "                 num_customers=15,\n",
    "                 coord_bounds=[0, 1000],\n",
    "                 plant_output_bounds=[2000, 2500],\n",
    "                 dc_cap_bounds=[400, 600],\n",
    "                 retailer_cap_bounds=[100, 200],\n",
    "                 dc_lease_cost_bounds=[0, 100],\n",
    "                 dc_open_cost_bounds=[0, 100],\n",
    "                 retailer_lease_cost_bounds=[0, 100],\n",
    "                 retailer_open_cost_bounds=[0, 100],\n",
    "                 customer_demand_bounds=[10, 100])\n",
    "tasks = task_gen.gen()"
   ]
  },
  {
   "cell_type": "code",
   "execution_count": 187,
   "id": "c409422b",
   "metadata": {},
   "outputs": [
    {
     "name": "stdout",
     "output_type": "stream",
     "text": [
      "Gen 0: best fitness 693330.2786482688\n",
      "Gen 25: best fitness 459710.81997526827\n",
      "Gen 50: best fitness 414112.22682134196\n",
      "Gen 75: best fitness 388702.78916573635\n",
      "Gen 100: best fitness 373465.9836532684\n",
      "Gen 125: best fitness 365029.66910645994\n",
      "Gen 150: best fitness 355986.9093748011\n",
      "Gen 175: best fitness 349925.84338922484\n",
      "Gen 200: best fitness 345670.255625398\n",
      "Gen 225: best fitness 345243.40039538575\n",
      "Gen 250: best fitness 344450.182493712\n",
      "Gen 275: best fitness 344450.182493712\n",
      "Gen 300: best fitness 344450.182493712\n",
      "Gen 325: best fitness 344085.72518180637\n",
      "Gen 350: best fitness 344085.72518180637\n",
      "Gen 375: best fitness 344085.72518180637\n",
      "Gen 400: best fitness 344085.72518180637\n",
      "Gen 425: best fitness 344085.72518180637\n",
      "Gen 450: best fitness 344085.72518180637\n",
      "Gen 475: best fitness 344085.72518180637\n",
      "Gen 500: best fitness 344085.72518180637\n",
      "Best found solution:\n",
      "Customer 0 deli type 2:\n",
      "Plant 0 -> DC 4 -> Retailer 1\n",
      "Customer 1 deli type 1:\n",
      "Plant 0 -> DC 4 -> Retailer 2\n",
      "Customer 2 deli type 1:\n",
      "Plant 0 -> DC 4 -> Retailer 7\n",
      "Customer 3 deli type 1:\n",
      "Plant 0 -> DC 3 -> Retailer 2\n",
      "Customer 4 deli type 1:\n",
      "Plant 0 -> DC 4 -> Retailer 3\n",
      "Customer 5 deli type 3:\n",
      "Plant 1 -> DC 4 -> Retailer 0\n",
      "Customer 6 deli type 2:\n",
      "Plant 0 -> DC 4 -> Retailer 2\n",
      "Customer 7 deli type 0:\n",
      "Plant 0 -> DC 3 -> Retailer 3\n",
      "Customer 8 deli type 1:\n",
      "Plant 1 -> DC 0 -> Retailer 1\n",
      "Customer 9 deli type 1:\n",
      "Plant 0 -> DC 4 -> Retailer 0\n",
      "Customer 10 deli type 1:\n",
      "Plant 0 -> DC 0 -> Retailer 0\n",
      "Customer 11 deli type 0:\n",
      "Plant 1 -> DC 1 -> Retailer 1\n",
      "Customer 12 deli type 0:\n",
      "Plant 1 -> DC 3 -> Retailer 4\n",
      "Customer 13 deli type 0:\n",
      "Plant 0 -> DC 3 -> Retailer 4\n",
      "Customer 14 deli type 3:\n",
      "Plant 0 -> DC 1 -> Retailer 3\n",
      "\n"
     ]
    }
   ],
   "source": [
    "model = Model(200, task=tasks[0], crossover=TwoCutCrossover(), mutation=InsertionMutation())\n",
    "model.fit(500, 100, 30, True, 25)"
   ]
  }
 ],
 "metadata": {
  "kernelspec": {
   "display_name": "base",
   "language": "python",
   "name": "python3"
  },
  "language_info": {
   "codemirror_mode": {
    "name": "ipython",
    "version": 3
   },
   "file_extension": ".py",
   "mimetype": "text/x-python",
   "name": "python",
   "nbconvert_exporter": "python",
   "pygments_lexer": "ipython3",
   "version": "3.12.9"
  }
 },
 "nbformat": 4,
 "nbformat_minor": 5
}
