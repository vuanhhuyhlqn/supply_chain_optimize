{
 "cells": [
  {
   "cell_type": "code",
   "execution_count": 54,
   "id": "7391dbf4",
   "metadata": {},
   "outputs": [
    {
     "name": "stdout",
     "output_type": "stream",
     "text": [
      "The autoreload extension is already loaded. To reload it, use:\n",
      "  %reload_ext autoreload\n"
     ]
    }
   ],
   "source": [
    "%load_ext autoreload\n",
    "%autoreload 2\n",
    "import numpy as np\n",
    "from entity import Entity\n",
    "from task import *\n",
    "from plant import Plant\n",
    "from dc import DC\n",
    "from retailer import Retailer\n",
    "from customer import Customer\n",
    "from indi import Individual\n",
    "from crossover import *\n",
    "from mutation import *\n",
    "from GA import Model\n",
    "from task_gen import *"
   ]
  },
  {
   "cell_type": "code",
   "execution_count": 52,
   "id": "c1e1867c",
   "metadata": {},
   "outputs": [],
   "source": [
    "small_task = load_small_task(1)"
   ]
  },
  {
   "cell_type": "code",
   "execution_count": 59,
   "id": "e23a052d",
   "metadata": {},
   "outputs": [
    {
     "name": "stdout",
     "output_type": "stream",
     "text": [
      "Gen 0: best fitness 1170291.2602406375\n",
      "Gen 25: best fitness 905568.9360245873\n",
      "Gen 50: best fitness 900964.985031131\n",
      "Gen 75: best fitness 900964.985031131\n",
      "Gen 100: best fitness 900964.985031131\n"
     ]
    },
    {
     "ename": "KeyboardInterrupt",
     "evalue": "",
     "output_type": "error",
     "traceback": [
      "\u001b[1;31m---------------------------------------------------------------------------\u001b[0m",
      "\u001b[1;31mKeyboardInterrupt\u001b[0m                         Traceback (most recent call last)",
      "Cell \u001b[1;32mIn[59], line 2\u001b[0m\n\u001b[0;32m      1\u001b[0m model \u001b[38;5;241m=\u001b[39m Model(\u001b[38;5;241m200\u001b[39m, task\u001b[38;5;241m=\u001b[39msmall_task, crossover\u001b[38;5;241m=\u001b[39mCombinatorialCrossover(pc\u001b[38;5;241m=\u001b[39m\u001b[38;5;241m0.5\u001b[39m), mutation\u001b[38;5;241m=\u001b[39mInsertionMutation())\n\u001b[1;32m----> 2\u001b[0m \u001b[43mmodel\u001b[49m\u001b[38;5;241;43m.\u001b[39;49m\u001b[43mfit\u001b[49m\u001b[43m(\u001b[49m\u001b[38;5;241;43m300\u001b[39;49m\u001b[43m,\u001b[49m\u001b[43m \u001b[49m\u001b[38;5;241;43m200\u001b[39;49m\u001b[43m,\u001b[49m\u001b[43m \u001b[49m\u001b[38;5;241;43m50\u001b[39;49m\u001b[43m,\u001b[49m\u001b[43m \u001b[49m\u001b[38;5;28;43;01mTrue\u001b[39;49;00m\u001b[43m,\u001b[49m\u001b[43m \u001b[49m\u001b[38;5;241;43m25\u001b[39;49m\u001b[43m)\u001b[49m\n",
      "File \u001b[1;32mc:\\Users\\madmo\\Workspace\\project2_supply_chain_optimize\\GA.py:42\u001b[0m, in \u001b[0;36mModel.fit\u001b[1;34m(self, num_gen, num_crossover, num_mutation, monitor, monitor_rate)\u001b[0m\n\u001b[0;32m     40\u001b[0m     \u001b[38;5;28;01mwhile\u001b[39;00m oc\u001b[38;5;241m.\u001b[39mcheck_valid() \u001b[38;5;241m==\u001b[39m \u001b[38;5;28;01mFalse\u001b[39;00m:\n\u001b[0;32m     41\u001b[0m         oc\u001b[38;5;241m.\u001b[39mfix()\n\u001b[1;32m---> 42\u001b[0m     oc\u001b[38;5;241m.\u001b[39mfitness \u001b[38;5;241m=\u001b[39m \u001b[43moc\u001b[49m\u001b[38;5;241;43m.\u001b[39;49m\u001b[43meval\u001b[49m\u001b[43m(\u001b[49m\u001b[43m)\u001b[49m\n\u001b[0;32m     43\u001b[0m     off_cr\u001b[38;5;241m.\u001b[39mappend(oc)\n\u001b[0;32m     45\u001b[0m \u001b[38;5;66;03m#mutation\u001b[39;00m\n",
      "File \u001b[1;32mc:\\Users\\madmo\\Workspace\\project2_supply_chain_optimize\\indi.py:154\u001b[0m, in \u001b[0;36mIndividual.eval\u001b[1;34m(self)\u001b[0m\n\u001b[0;32m    151\u001b[0m \t\tcost \u001b[38;5;241m+\u001b[39m\u001b[38;5;241m=\u001b[39m \u001b[38;5;28mself\u001b[39m\u001b[38;5;241m.\u001b[39mtask\u001b[38;5;241m.\u001b[39mlst_dcs[dc_id]\u001b[38;5;241m.\u001b[39mlease_cost \u001b[38;5;241m*\u001b[39m stock\n\u001b[0;32m    153\u001b[0m \u001b[38;5;28;01mfor\u001b[39;00m retailer_id \u001b[38;5;129;01min\u001b[39;00m \u001b[38;5;28mrange\u001b[39m(\u001b[38;5;28mself\u001b[39m\u001b[38;5;241m.\u001b[39mtask\u001b[38;5;241m.\u001b[39mnum_retailers):\n\u001b[1;32m--> 154\u001b[0m \tstock \u001b[38;5;241m=\u001b[39m \u001b[38;5;28;43mself\u001b[39;49m\u001b[38;5;241;43m.\u001b[39;49m\u001b[43mget_retailer_stock\u001b[49m\u001b[43m(\u001b[49m\u001b[43mretailer_id\u001b[49m\u001b[43m)\u001b[49m\n\u001b[0;32m    155\u001b[0m \t\u001b[38;5;28;01mif\u001b[39;00m stock \u001b[38;5;241m>\u001b[39m \u001b[38;5;241m0\u001b[39m:\n\u001b[0;32m    156\u001b[0m \t\tcost \u001b[38;5;241m+\u001b[39m\u001b[38;5;241m=\u001b[39m \u001b[38;5;28mself\u001b[39m\u001b[38;5;241m.\u001b[39mtask\u001b[38;5;241m.\u001b[39mlst_retailers[retailer_id]\u001b[38;5;241m.\u001b[39mopen_cost\n",
      "File \u001b[1;32mc:\\Users\\madmo\\Workspace\\project2_supply_chain_optimize\\indi.py:222\u001b[0m, in \u001b[0;36mIndividual.get_retailer_stock\u001b[1;34m(self, retailer_id)\u001b[0m\n\u001b[0;32m    220\u001b[0m \u001b[38;5;28;01mfor\u001b[39;00m cid \u001b[38;5;129;01min\u001b[39;00m \u001b[38;5;28mrange\u001b[39m(\u001b[38;5;28mself\u001b[39m\u001b[38;5;241m.\u001b[39mtask\u001b[38;5;241m.\u001b[39mnum_customers):\n\u001b[0;32m    221\u001b[0m \t\u001b[38;5;28;01mif\u001b[39;00m \u001b[38;5;28mself\u001b[39m\u001b[38;5;241m.\u001b[39mdeli_types[cid] \u001b[38;5;241m==\u001b[39m \u001b[38;5;241m0\u001b[39m \u001b[38;5;129;01mor\u001b[39;00m \u001b[38;5;28mself\u001b[39m\u001b[38;5;241m.\u001b[39mdeli_types[cid] \u001b[38;5;241m==\u001b[39m \u001b[38;5;241m3\u001b[39m:\n\u001b[1;32m--> 222\u001b[0m \t\t\u001b[38;5;28;01mif\u001b[39;00m \u001b[38;5;28mself\u001b[39m\u001b[38;5;241m.\u001b[39mgene[\u001b[43mcid\u001b[49m\u001b[43m \u001b[49m\u001b[38;5;241;43m*\u001b[39;49m\u001b[43m \u001b[49m\u001b[38;5;241;43m3\u001b[39;49m \u001b[38;5;241m+\u001b[39m \u001b[38;5;241m2\u001b[39m] \u001b[38;5;241m==\u001b[39m retailer_id:\n\u001b[0;32m    223\u001b[0m \t\t\tres \u001b[38;5;241m+\u001b[39m\u001b[38;5;241m=\u001b[39m \u001b[38;5;28mself\u001b[39m\u001b[38;5;241m.\u001b[39mtask\u001b[38;5;241m.\u001b[39mlst_customers[cid]\u001b[38;5;241m.\u001b[39mdemand\n\u001b[0;32m    224\u001b[0m \u001b[38;5;28;01mreturn\u001b[39;00m res\n",
      "\u001b[1;31mKeyboardInterrupt\u001b[0m: "
     ]
    }
   ],
   "source": [
    "model = Model(200, task=small_task, crossover=CombinatorialCrossover(pc=0.5), mutation=InsertionMutation())\n",
    "model.fit(300, 200, 50, True, 25)"
   ]
  },
  {
   "cell_type": "code",
   "execution_count": 53,
   "id": "c409422b",
   "metadata": {},
   "outputs": [
    {
     "name": "stdout",
     "output_type": "stream",
     "text": [
      "Gen 0: best fitness 1158270.664642778\n",
      "Gen 25: best fitness 911839.3947987448\n",
      "Gen 50: best fitness 906977.3160587453\n",
      "Gen 75: best fitness 902726.7411506119\n",
      "Gen 100: best fitness 902318.2615600743\n",
      "Gen 125: best fitness 900964.985031131\n",
      "Gen 150: best fitness 900964.985031131\n",
      "Gen 175: best fitness 900964.985031131\n",
      "Gen 200: best fitness 900964.985031131\n",
      "Gen 225: best fitness 900964.985031131\n",
      "Gen 250: best fitness 900964.985031131\n",
      "Gen 275: best fitness 900964.985031131\n",
      "Gen 300: best fitness 900964.985031131\n",
      "Best found solution:\n",
      "Customer 0 deli type 1:\n",
      "Plant 0 -> DC 3 -> Retailer 5\n",
      "Customer 1 deli type 0:\n",
      "Plant 1 -> DC 2 -> Retailer 1\n",
      "Customer 2 deli type 1:\n",
      "Plant 0 -> DC 1 -> Retailer 3\n",
      "Customer 3 deli type 1:\n",
      "Plant 0 -> DC 1 -> Retailer 2\n",
      "Customer 4 deli type 0:\n",
      "Plant 0 -> DC 2 -> Retailer 5\n",
      "Customer 5 deli type 2:\n",
      "Plant 0 -> DC 0 -> Retailer 0\n",
      "Customer 6 deli type 2:\n",
      "Plant 1 -> DC 2 -> Retailer 5\n",
      "Customer 7 deli type 2:\n",
      "Plant 0 -> DC 2 -> Retailer 2\n",
      "Customer 8 deli type 2:\n",
      "Plant 0 -> DC 1 -> Retailer 3\n",
      "Customer 9 deli type 2:\n",
      "Plant 0 -> DC 4 -> Retailer 4\n",
      "Customer 10 deli type 2:\n",
      "Plant 0 -> DC 2 -> Retailer 2\n",
      "Customer 11 deli type 2:\n",
      "Plant 0 -> DC 1 -> Retailer 2\n",
      "Customer 12 deli type 3:\n",
      "Plant 1 -> DC 4 -> Retailer 6\n",
      "Customer 13 deli type 0:\n",
      "Plant 0 -> DC 1 -> Retailer 1\n",
      "Customer 14 deli type 3:\n",
      "Plant 0 -> DC 2 -> Retailer 0\n",
      "Customer 15 deli type 2:\n",
      "Plant 0 -> DC 1 -> Retailer 4\n",
      "Customer 16 deli type 1:\n",
      "Plant 0 -> DC 0 -> Retailer 2\n",
      "Customer 17 deli type 3:\n",
      "Plant 1 -> DC 3 -> Retailer 4\n",
      "Customer 18 deli type 0:\n",
      "Plant 0 -> DC 0 -> Retailer 2\n",
      "Customer 19 deli type 1:\n",
      "Plant 1 -> DC 1 -> Retailer 4\n",
      "\n"
     ]
    }
   ],
   "source": [
    "model = Model(100, task=small_task, crossover=TwoCutCrossover(), mutation=InsertionMutation())\n",
    "model.fit(300, 100, 5, True, 25)"
   ]
  }
 ],
 "metadata": {
  "kernelspec": {
   "display_name": "Python 3",
   "language": "python",
   "name": "python3"
  },
  "language_info": {
   "codemirror_mode": {
    "name": "ipython",
    "version": 3
   },
   "file_extension": ".py",
   "mimetype": "text/x-python",
   "name": "python",
   "nbconvert_exporter": "python",
   "pygments_lexer": "ipython3",
   "version": "3.9.12"
  }
 },
 "nbformat": 4,
 "nbformat_minor": 5
}
