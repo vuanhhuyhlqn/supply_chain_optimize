{
 "cells": [
  {
   "cell_type": "code",
   "execution_count": 1,
   "id": "7391dbf4",
   "metadata": {},
   "outputs": [],
   "source": [
    "%load_ext autoreload\n",
    "%autoreload 2\n",
    "import numpy as np\n",
    "from entity import Entity\n",
    "from task import Task\n",
    "from plant import Plant\n",
    "from dc import DC\n",
    "from retailer import Retailer\n",
    "from customer import Customer\n",
    "from indi import Individual\n",
    "from crossover import *\n",
    "from mutation import *\n",
    "from GA import Model"
   ]
  },
  {
   "cell_type": "code",
   "execution_count": 2,
   "id": "1d19c282",
   "metadata": {},
   "outputs": [],
   "source": [
    "task = Task(3, 4, 5, 10)"
   ]
  },
  {
   "cell_type": "code",
   "execution_count": 3,
   "id": "fa92fc01",
   "metadata": {},
   "outputs": [],
   "source": [
    "for _ in range(task.num_plants):\n",
    "\tcoord_x, coord_y = np.random.randint(0, 10), np.random.randint(0, 10)\n",
    "\toutput = np.random.randint(1000, 2000)\n",
    "\ttask.lst_plants.append(Plant(coord_x, coord_y, output))\n",
    "for _ in range(task.num_dcs):\n",
    "\tcoord_x, coord_y = np.random.randint(0, 10), np.random.randint(0, 10)\n",
    "\tcapacity = np.random.randint(50, 100)\n",
    "\tlease_cost = np.random.randint(100)\n",
    "\topen_cost = np.random.randint(100)\n",
    "\ttask.lst_dcs.append(DC(coord_x, coord_y, capacity, lease_cost, open_cost))\n",
    "for _ in range(task.num_retailers):\n",
    "\tcoord_x, coord_y = np.random.randint(0, 10), np.random.randint(0, 10)\n",
    "\tcapacity = np.random.randint(50, 70)\n",
    "\tlease_cost = np.random.randint(100)\n",
    "\topen_cost = np.random.randint(100)\n",
    "\ttask.lst_retailers.append(Retailer(coord_x, coord_y, capacity, lease_cost, open_cost))\n",
    "for _ in range(task.num_customers):\n",
    "\tcoord_x, coord_y = np.random.randint(0, 10), np.random.randint(0, 10)\n",
    "\tdemand = np.random.randint(5, 10)\n",
    "\ttask.lst_customers.append(Customer(coord_x, coord_y, demand))"
   ]
  },
  {
   "cell_type": "code",
   "execution_count": 4,
   "id": "809cd943",
   "metadata": {},
   "outputs": [
    {
     "name": "stdout",
     "output_type": "stream",
     "text": [
      "(9, 7)\n",
      "output: 1138\n",
      "(1, 9)\n",
      "output: 1577\n",
      "(6, 5)\n",
      "output: 1282\n"
     ]
    }
   ],
   "source": [
    "for p in task.lst_plants:\n",
    "    print(p)"
   ]
  },
  {
   "cell_type": "code",
   "execution_count": 5,
   "id": "c928ee2f",
   "metadata": {},
   "outputs": [
    {
     "name": "stdout",
     "output_type": "stream",
     "text": [
      "(4, 6)\n",
      "capacity: 88\n",
      "lease cost: 21\n",
      "open cost: 55\n",
      "(1, 1)\n",
      "capacity: 64\n",
      "lease cost: 38\n",
      "open cost: 68\n",
      "(8, 8)\n",
      "capacity: 91\n",
      "lease cost: 78\n",
      "open cost: 58\n",
      "(8, 3)\n",
      "capacity: 64\n",
      "lease cost: 94\n",
      "open cost: 87\n"
     ]
    }
   ],
   "source": [
    "for dc in task.lst_dcs:\n",
    "    print(dc)"
   ]
  },
  {
   "cell_type": "code",
   "execution_count": 6,
   "id": "516e3b30",
   "metadata": {},
   "outputs": [
    {
     "name": "stdout",
     "output_type": "stream",
     "text": [
      "(0, 5)\n",
      "capacity: 53\n",
      "lease cost: 88\n",
      "open cost: 79\n",
      "(6, 3)\n",
      "capacity: 59\n",
      "lease cost: 78\n",
      "open cost: 23\n",
      "(9, 1)\n",
      "capacity: 50\n",
      "lease cost: 68\n",
      "open cost: 98\n",
      "(5, 6)\n",
      "capacity: 51\n",
      "lease cost: 47\n",
      "open cost: 60\n",
      "(5, 9)\n",
      "capacity: 67\n",
      "lease cost: 70\n",
      "open cost: 56\n"
     ]
    }
   ],
   "source": [
    "for rt in task.lst_retailers:\n",
    "    print(rt)"
   ]
  },
  {
   "cell_type": "code",
   "execution_count": 7,
   "id": "86eedfcd",
   "metadata": {},
   "outputs": [
    {
     "name": "stdout",
     "output_type": "stream",
     "text": [
      "(9, 7)\n",
      "demand: 7\n",
      "(4, 1)\n",
      "demand: 6\n",
      "(3, 2)\n",
      "demand: 7\n",
      "(7, 8)\n",
      "demand: 8\n",
      "(4, 9)\n",
      "demand: 9\n",
      "(5, 8)\n",
      "demand: 8\n",
      "(0, 8)\n",
      "demand: 9\n",
      "(4, 8)\n",
      "demand: 5\n",
      "(2, 7)\n",
      "demand: 8\n",
      "(7, 7)\n",
      "demand: 6\n"
     ]
    }
   ],
   "source": [
    "for ct in task.lst_customers:\n",
    "    print(ct)"
   ]
  },
  {
   "cell_type": "code",
   "execution_count": 8,
   "id": "eeacba9b",
   "metadata": {},
   "outputs": [],
   "source": [
    "indi = Individual(task)"
   ]
  },
  {
   "cell_type": "code",
   "execution_count": 9,
   "id": "f3f43917",
   "metadata": {},
   "outputs": [
    {
     "name": "stdout",
     "output_type": "stream",
     "text": [
      "Customer 0 deli type 0:\n",
      "Plant 0 -> DC 0 -> Retailer 2\n",
      "Customer 1 deli type 0:\n",
      "Plant 0 -> DC 2 -> Retailer 2\n",
      "Customer 2 deli type 1:\n",
      "Plant 2 -> DC 2 -> Retailer 4\n",
      "Customer 3 deli type 2:\n",
      "Plant 0 -> DC 0 -> Retailer 4\n",
      "Customer 4 deli type 2:\n",
      "Plant 2 -> DC 3 -> Retailer 2\n",
      "Customer 5 deli type 1:\n",
      "Plant 2 -> DC 1 -> Retailer 2\n",
      "Customer 6 deli type 3:\n",
      "Plant 2 -> DC 0 -> Retailer 4\n",
      "Customer 7 deli type 2:\n",
      "Plant 1 -> DC 3 -> Retailer 2\n",
      "Customer 8 deli type 0:\n",
      "Plant 0 -> DC 1 -> Retailer 2\n",
      "Customer 9 deli type 3:\n",
      "Plant 2 -> DC 3 -> Retailer 0\n",
      "\n"
     ]
    }
   ],
   "source": [
    "print(indi)"
   ]
  },
  {
   "cell_type": "code",
   "execution_count": 10,
   "id": "12b87515",
   "metadata": {},
   "outputs": [
    {
     "name": "stdout",
     "output_type": "stream",
     "text": [
      "True\n"
     ]
    }
   ],
   "source": [
    "print(indi.check_valid())"
   ]
  },
  {
   "cell_type": "code",
   "execution_count": 11,
   "id": "a226ec67",
   "metadata": {},
   "outputs": [],
   "source": [
    "indi.fix()"
   ]
  },
  {
   "cell_type": "code",
   "execution_count": 12,
   "id": "d20c3983",
   "metadata": {},
   "outputs": [
    {
     "name": "stdout",
     "output_type": "stream",
     "text": [
      "True\n"
     ]
    }
   ],
   "source": [
    "print(indi.check_valid())"
   ]
  },
  {
   "cell_type": "code",
   "execution_count": 13,
   "id": "f156ab8a",
   "metadata": {},
   "outputs": [],
   "source": [
    "model = Model(100, task=task, crossover=TwoCutCrossover(), mutation=InsertionMutation())"
   ]
  },
  {
   "cell_type": "code",
   "execution_count": 14,
   "id": "fdf085d2",
   "metadata": {},
   "outputs": [
    {
     "name": "stdout",
     "output_type": "stream",
     "text": [
      "Gen 0: best fitness 8073.56323305596\n",
      "Gen 20: best fitness 5471.4083812881545\n",
      "Gen 40: best fitness 5377.548398711746\n",
      "Gen 60: best fitness 5348.993547983063\n",
      "Gen 80: best fitness 5298.08704532033\n",
      "Best found solution:\n",
      "Customer 0 deli type 1:\n",
      "Plant 2 -> DC 0 -> Retailer 3\n",
      "Customer 1 deli type 1:\n",
      "Plant 1 -> DC 0 -> Retailer 3\n",
      "Customer 2 deli type 1:\n",
      "Plant 0 -> DC 0 -> Retailer 3\n",
      "Customer 3 deli type 3:\n",
      "Plant 2 -> DC 0 -> Retailer 3\n",
      "Customer 4 deli type 2:\n",
      "Plant 2 -> DC 0 -> Retailer 3\n",
      "Customer 5 deli type 1:\n",
      "Plant 2 -> DC 0 -> Retailer 3\n",
      "Customer 6 deli type 1:\n",
      "Plant 1 -> DC 0 -> Retailer 3\n",
      "Customer 7 deli type 2:\n",
      "Plant 1 -> DC 0 -> Retailer 3\n",
      "Customer 8 deli type 2:\n",
      "Plant 1 -> DC 0 -> Retailer 3\n",
      "Customer 9 deli type 1:\n",
      "Plant 0 -> DC 0 -> Retailer 3\n",
      "\n"
     ]
    }
   ],
   "source": [
    "model.fit(100, 100, 5, True, 20)"
   ]
  }
 ],
 "metadata": {
  "kernelspec": {
   "display_name": "base",
   "language": "python",
   "name": "python3"
  },
  "language_info": {
   "codemirror_mode": {
    "name": "ipython",
    "version": 3
   },
   "file_extension": ".py",
   "mimetype": "text/x-python",
   "name": "python",
   "nbconvert_exporter": "python",
   "pygments_lexer": "ipython3",
   "version": "3.12.9"
  }
 },
 "nbformat": 4,
 "nbformat_minor": 5
}
