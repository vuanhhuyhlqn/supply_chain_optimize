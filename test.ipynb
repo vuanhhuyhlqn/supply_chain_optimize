{
 "cells": [
  {
   "cell_type": "code",
   "execution_count": 143,
   "id": "7391dbf4",
   "metadata": {},
   "outputs": [
    {
     "name": "stdout",
     "output_type": "stream",
     "text": [
      "The autoreload extension is already loaded. To reload it, use:\n",
      "  %reload_ext autoreload\n"
     ]
    }
   ],
   "source": [
    "%load_ext autoreload\n",
    "%autoreload 2\n",
    "import numpy as np\n",
    "from entity import Entity\n",
    "from task import *\n",
    "from plant import Plant\n",
    "from dc import DC\n",
    "from retailer import Retailer\n",
    "from customer import Customer\n",
    "from indi import Individual\n",
    "from crossover import *\n",
    "from mutation import *\n",
    "from GA import Model\n",
    "from task_gen import *\n",
    "from local_search import *"
   ]
  },
  {
   "cell_type": "code",
   "execution_count": 144,
   "id": "c1e1867c",
   "metadata": {},
   "outputs": [],
   "source": [
    "small_task = load_small_task(0)\n",
    "medium_task = load_medium_task(0)\n",
    "large_task = load_large_task(0)"
   ]
  },
  {
   "cell_type": "code",
   "execution_count": 145,
   "id": "23244472",
   "metadata": {},
   "outputs": [
    {
     "name": "stdout",
     "output_type": "stream",
     "text": [
      "3893206.737299066\n"
     ]
    }
   ],
   "source": [
    "indi = Individual(medium_task)\n",
    "while indi.check_valid == False:\n",
    "    indi.fix()\n",
    "indi.fitness = indi.eval()\n",
    "print(indi.fitness)"
   ]
  },
  {
   "cell_type": "code",
   "execution_count": 146,
   "id": "1593733f",
   "metadata": {},
   "outputs": [
    {
     "name": "stdout",
     "output_type": "stream",
     "text": [
      "2907340.281134913\n"
     ]
    }
   ],
   "source": [
    "ls = SimpleLocalSearch()\n",
    "nindi = ls(indi)\n",
    "nindi.fitness = nindi.eval()\n",
    "print(nindi.fitness)"
   ]
  },
  {
   "cell_type": "code",
   "execution_count": 147,
   "id": "e23a052d",
   "metadata": {},
   "outputs": [
    {
     "name": "stdout",
     "output_type": "stream",
     "text": [
      "Gen 0: best fitness 540545.0389981548\n",
      "Gen 1: best fitness 497203.62341555255\n",
      "Gen 2: best fitness 451995.281116277\n",
      "Gen 3: best fitness 405381.25716145\n",
      "Gen 4: best fitness 399174.8497665935\n",
      "Gen 5: best fitness 337430.9623764137\n",
      "Gen 6: best fitness 316025.7865109207\n",
      "Gen 7: best fitness 314849.06679126684\n",
      "Gen 8: best fitness 300757.60244125634\n",
      "Gen 9: best fitness 286617.66849191923\n",
      "Gen 10: best fitness 267070.1377333328\n",
      "Gen 11: best fitness 259854.6509383198\n",
      "Gen 12: best fitness 251169.04487890977\n",
      "Gen 13: best fitness 237225.1180622341\n",
      "Gen 14: best fitness 237225.1180622341\n",
      "Gen 15: best fitness 232487.36019477164\n"
     ]
    }
   ],
   "source": [
    "model = Model(100, \n",
    "              task=small_task, \n",
    "              crossover=CombinatorialCrossover(pc=0.5), \n",
    "              mutation=InsertionMutation(), \n",
    "              localsearch=SimpleLocalSearch())\n",
    "bfs, best_indi = model.fit(15, 100, 20, 5, True, 1)"
   ]
  },
  {
   "cell_type": "code",
   "execution_count": 150,
   "id": "b2f8e0c4",
   "metadata": {},
   "outputs": [
    {
     "name": "stdout",
     "output_type": "stream",
     "text": [
      "Gen 0: best fitness 565961.0423481215\n",
      "Gen 1: best fitness 521085.4073877866\n",
      "Gen 2: best fitness 488090.63906164665\n",
      "Gen 3: best fitness 449969.3026646956\n",
      "Gen 4: best fitness 442533.5026428728\n",
      "Gen 5: best fitness 413983.3709813792\n",
      "Gen 6: best fitness 357444.2033537024\n",
      "Gen 7: best fitness 357444.2033537024\n",
      "Gen 8: best fitness 356599.06449126906\n",
      "Gen 9: best fitness 304402.2204952675\n",
      "Gen 10: best fitness 290074.1916116202\n",
      "Gen 11: best fitness 271109.18923546333\n",
      "Gen 12: best fitness 266888.4571868632\n",
      "Gen 13: best fitness 250692.30879556574\n",
      "Gen 14: best fitness 236936.82626163782\n",
      "Gen 15: best fitness 236936.82626163782\n"
     ]
    }
   ],
   "source": [
    "model = Model(100, \n",
    "              task=small_task, \n",
    "              crossover=CombinatorialCrossover(pc=0.5), \n",
    "              mutation=InsertionMutation(), \n",
    "              localsearch=SimpleLocalSearch())\n",
    "bfs, best_indi = model.fit(15, 100, 20, 0, True, 1)"
   ]
  }
 ],
 "metadata": {
  "kernelspec": {
   "display_name": "Python 3",
   "language": "python",
   "name": "python3"
  },
  "language_info": {
   "codemirror_mode": {
    "name": "ipython",
    "version": 3
   },
   "file_extension": ".py",
   "mimetype": "text/x-python",
   "name": "python",
   "nbconvert_exporter": "python",
   "pygments_lexer": "ipython3",
   "version": "3.9.12"
  }
 },
 "nbformat": 4,
 "nbformat_minor": 5
}
