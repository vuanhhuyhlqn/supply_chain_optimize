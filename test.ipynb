{
 "cells": [
  {
   "cell_type": "code",
   "execution_count": 27,
   "id": "7391dbf4",
   "metadata": {},
   "outputs": [
    {
     "name": "stdout",
     "output_type": "stream",
     "text": [
      "The autoreload extension is already loaded. To reload it, use:\n",
      "  %reload_ext autoreload\n"
     ]
    }
   ],
   "source": [
    "%load_ext autoreload\n",
    "%autoreload 2\n",
    "import numpy as np\n",
    "from entity import Entity\n",
    "from task import *\n",
    "from plant import Plant\n",
    "from dc import DC\n",
    "from retailer import Retailer\n",
    "from customer import Customer\n",
    "from indi import Individual\n",
    "from crossover import *\n",
    "from mutation import *\n",
    "from GA import Model\n",
    "from task_gen import *"
   ]
  },
  {
   "cell_type": "code",
   "execution_count": 38,
   "id": "dc91d607",
   "metadata": {},
   "outputs": [],
   "source": [
    "task_gen = TaskGenerator(10)\n",
    "task_gen.compile(num_plants=5,\n",
    "                 num_dcs=20,\n",
    "                 num_retailers=30,\n",
    "                 num_customers=100,\n",
    "                 coord_bounds=[0, 1000],\n",
    "                 plant_output_bounds=[1000, 1500],\n",
    "                 dc_cap_bounds=[400, 600],\n",
    "                 retailer_cap_bounds=[100, 200],\n",
    "                 dc_lease_cost_bounds=[0, 100],\n",
    "                 dc_open_cost_bounds=[0, 100],\n",
    "                 retailer_lease_cost_bounds=[0, 100],\n",
    "                 retailer_open_cost_bounds=[0, 100],\n",
    "                 customer_demand_bounds=[20, 50])\n",
    "tasks = task_gen.gen()"
   ]
  },
  {
   "cell_type": "code",
   "execution_count": 34,
   "id": "2330f6c6",
   "metadata": {},
   "outputs": [],
   "source": [
    "# Small tasks\n",
    "for i in range(len(tasks)):\n",
    "    task = tasks[i]\n",
    "    task_name = \"small_task_{0}.pkl\".format(i)\n",
    "    pickle_task(task=task, file_path=\"./instance/small/{0}\".format(task_name))"
   ]
  },
  {
   "cell_type": "code",
   "execution_count": 37,
   "id": "fc004f9d",
   "metadata": {},
   "outputs": [],
   "source": [
    "# Medium tasks\n",
    "for i in range(len(tasks)):\n",
    "    task = tasks[i]\n",
    "    task_name = \"medium_task_{0}.pkl\".format(i)\n",
    "    pickle_task(task=task, file_path=\"./instance/medium/{0}\".format(task_name))"
   ]
  },
  {
   "cell_type": "code",
   "execution_count": null,
   "id": "5cec1786",
   "metadata": {},
   "outputs": [],
   "source": [
    "# Large tasks\n",
    "for i in range(len(tasks)):\n",
    "    task = tasks[i]\n",
    "    task_name = \"large_task_{0}.pkl\".format(i)\n",
    "    pickle_task(task=task, file_path=\"./instance/large/{0}\".format(task_name))"
   ]
  },
  {
   "cell_type": "markdown",
   "id": "15e5e17f",
   "metadata": {},
   "source": []
  },
  {
   "cell_type": "code",
   "execution_count": 30,
   "id": "c409422b",
   "metadata": {},
   "outputs": [
    {
     "name": "stdout",
     "output_type": "stream",
     "text": [
      "Gen 0: best fitness 1121614.6994295556\n",
      "Gen 25: best fitness 649821.3240544026\n",
      "Gen 50: best fitness 623756.3695662617\n",
      "Gen 75: best fitness 623756.3695662617\n",
      "Gen 100: best fitness 623610.9331669065\n",
      "Gen 125: best fitness 603478.4838655457\n",
      "Gen 150: best fitness 602476.0477106788\n",
      "Gen 175: best fitness 579815.9205243804\n",
      "Gen 200: best fitness 573793.959134643\n",
      "Gen 225: best fitness 573793.959134643\n",
      "Gen 250: best fitness 573793.959134643\n",
      "Gen 275: best fitness 573793.959134643\n",
      "Gen 300: best fitness 573793.959134643\n",
      "Best found solution:\n",
      "Customer 0 deli type 1:\n",
      "Plant 1 -> DC 3 -> Retailer 1\n",
      "Customer 1 deli type 0:\n",
      "Plant 0 -> DC 4 -> Retailer 6\n",
      "Customer 2 deli type 3:\n",
      "Plant 1 -> DC 3 -> Retailer 0\n",
      "Customer 3 deli type 2:\n",
      "Plant 1 -> DC 1 -> Retailer 2\n",
      "Customer 4 deli type 1:\n",
      "Plant 1 -> DC 3 -> Retailer 1\n",
      "Customer 5 deli type 0:\n",
      "Plant 0 -> DC 3 -> Retailer 4\n",
      "Customer 6 deli type 0:\n",
      "Plant 0 -> DC 2 -> Retailer 2\n",
      "Customer 7 deli type 3:\n",
      "Plant 0 -> DC 2 -> Retailer 2\n",
      "Customer 8 deli type 0:\n",
      "Plant 1 -> DC 3 -> Retailer 4\n",
      "Customer 9 deli type 3:\n",
      "Plant 1 -> DC 4 -> Retailer 4\n",
      "Customer 10 deli type 2:\n",
      "Plant 1 -> DC 3 -> Retailer 5\n",
      "Customer 11 deli type 2:\n",
      "Plant 1 -> DC 3 -> Retailer 5\n",
      "Customer 12 deli type 3:\n",
      "Plant 0 -> DC 0 -> Retailer 1\n",
      "Customer 13 deli type 0:\n",
      "Plant 1 -> DC 4 -> Retailer 2\n",
      "Customer 14 deli type 2:\n",
      "Plant 1 -> DC 3 -> Retailer 4\n",
      "Customer 15 deli type 2:\n",
      "Plant 1 -> DC 3 -> Retailer 0\n",
      "Customer 16 deli type 0:\n",
      "Plant 1 -> DC 3 -> Retailer 0\n",
      "Customer 17 deli type 3:\n",
      "Plant 0 -> DC 2 -> Retailer 2\n",
      "Customer 18 deli type 0:\n",
      "Plant 1 -> DC 3 -> Retailer 6\n",
      "Customer 19 deli type 0:\n",
      "Plant 0 -> DC 2 -> Retailer 0\n",
      "\n"
     ]
    }
   ],
   "source": [
    "model = Model(100, task=tasks[0], crossover=TwoCutCrossover(), mutation=InsertionMutation())\n",
    "model.fit(300, 100, 5, True, 25)"
   ]
  }
 ],
 "metadata": {
  "kernelspec": {
   "display_name": "Python 3",
   "language": "python",
   "name": "python3"
  },
  "language_info": {
   "codemirror_mode": {
    "name": "ipython",
    "version": 3
   },
   "file_extension": ".py",
   "mimetype": "text/x-python",
   "name": "python",
   "nbconvert_exporter": "python",
   "pygments_lexer": "ipython3",
   "version": "3.9.12"
  }
 },
 "nbformat": 4,
 "nbformat_minor": 5
}
