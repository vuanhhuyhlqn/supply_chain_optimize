{
 "cells": [
  {
   "cell_type": "code",
   "execution_count": 49,
   "id": "7391dbf4",
   "metadata": {},
   "outputs": [
    {
     "name": "stdout",
     "output_type": "stream",
     "text": [
      "The autoreload extension is already loaded. To reload it, use:\n",
      "  %reload_ext autoreload\n"
     ]
    }
   ],
   "source": [
    "%load_ext autoreload\n",
    "%autoreload 2\n",
    "import numpy as np\n",
    "from entity import Entity\n",
    "from task import Task\n",
    "from plant import Plant\n",
    "from dc import DC\n",
    "from retailer import Retailer\n",
    "from customer import Customer\n",
    "from indi import Individual\n",
    "from crossover import *\n",
    "from mutation import *\n",
    "from GA import Model"
   ]
  },
  {
   "cell_type": "code",
   "execution_count": 50,
   "id": "1d19c282",
   "metadata": {},
   "outputs": [],
   "source": [
    "task = Task(22, 3, 4, 5, 10)"
   ]
  },
  {
   "cell_type": "code",
   "execution_count": 51,
   "id": "fa92fc01",
   "metadata": {},
   "outputs": [],
   "source": [
    "for _ in range(task.num_plants):\n",
    "\tcoord_x, coord_y = np.random.randint(0, 10), np.random.randint(0, 10)\n",
    "\toutput = np.random.randint(1000, 2000)\n",
    "\ttask.lst_plants.append(Plant(1, coord_x, coord_y, output))\n",
    "for _ in range(task.num_dcs):\n",
    "\tcoord_x, coord_y = np.random.randint(0, 10), np.random.randint(0, 10)\n",
    "\tcapacity = np.random.randint(50, 100)\n",
    "\tlease_cost = np.random.randint(100)\n",
    "\topen_cost = np.random.randint(100)\n",
    "\ttask.lst_dcs.append(DC(2, coord_x, coord_y, capacity, lease_cost, open_cost))\n",
    "for _ in range(task.num_retailers):\n",
    "\tcoord_x, coord_y = np.random.randint(0, 10), np.random.randint(0, 10)\n",
    "\tcapacity = np.random.randint(50, 70)\n",
    "\tlease_cost = np.random.randint(100)\n",
    "\topen_cost = np.random.randint(100)\n",
    "\ttask.lst_retailers.append(Retailer(3, coord_x, coord_y, capacity, lease_cost, open_cost))\n",
    "for _ in range(task.num_customers):\n",
    "\tcoord_x, coord_y = np.random.randint(0, 10), np.random.randint(0, 10)\n",
    "\tdemand = np.random.randint(5, 10)\n",
    "\ttask.lst_customers.append(Customer(4, coord_x, coord_y, demand))"
   ]
  },
  {
   "cell_type": "code",
   "execution_count": 52,
   "id": "809cd943",
   "metadata": {},
   "outputs": [
    {
     "name": "stdout",
     "output_type": "stream",
     "text": [
      "(1, 2)\n",
      "output: 1119\n",
      "(5, 0)\n",
      "output: 1301\n",
      "(7, 5)\n",
      "output: 1284\n"
     ]
    }
   ],
   "source": [
    "for p in task.lst_plants:\n",
    "    print(p)"
   ]
  },
  {
   "cell_type": "code",
   "execution_count": 53,
   "id": "c928ee2f",
   "metadata": {},
   "outputs": [
    {
     "name": "stdout",
     "output_type": "stream",
     "text": [
      "(4, 3)\n",
      "capacity: 84\n",
      "lease cost: 93\n",
      "open cost: 45\n",
      "(8, 0)\n",
      "capacity: 72\n",
      "lease cost: 57\n",
      "open cost: 0\n",
      "(5, 3)\n",
      "capacity: 83\n",
      "lease cost: 16\n",
      "open cost: 52\n",
      "(4, 5)\n",
      "capacity: 71\n",
      "lease cost: 1\n",
      "open cost: 22\n"
     ]
    }
   ],
   "source": [
    "for dc in task.lst_dcs:\n",
    "    print(dc)"
   ]
  },
  {
   "cell_type": "code",
   "execution_count": 54,
   "id": "516e3b30",
   "metadata": {},
   "outputs": [
    {
     "name": "stdout",
     "output_type": "stream",
     "text": [
      "(6, 7)\n",
      "capacity: 67\n",
      "lease cost: 41\n",
      "open cost: 29\n",
      "(2, 5)\n",
      "capacity: 64\n",
      "lease cost: 60\n",
      "open cost: 79\n",
      "(6, 0)\n",
      "capacity: 63\n",
      "lease cost: 65\n",
      "open cost: 93\n",
      "(8, 4)\n",
      "capacity: 52\n",
      "lease cost: 99\n",
      "open cost: 16\n",
      "(6, 4)\n",
      "capacity: 62\n",
      "lease cost: 33\n",
      "open cost: 91\n"
     ]
    }
   ],
   "source": [
    "for rt in task.lst_retailers:\n",
    "    print(rt)"
   ]
  },
  {
   "cell_type": "code",
   "execution_count": 55,
   "id": "86eedfcd",
   "metadata": {},
   "outputs": [
    {
     "name": "stdout",
     "output_type": "stream",
     "text": [
      "(2, 8)\n",
      "demand: 6\n",
      "(6, 5)\n",
      "demand: 8\n",
      "(4, 7)\n",
      "demand: 9\n",
      "(3, 6)\n",
      "demand: 7\n",
      "(8, 3)\n",
      "demand: 5\n",
      "(6, 0)\n",
      "demand: 5\n",
      "(9, 6)\n",
      "demand: 5\n",
      "(1, 4)\n",
      "demand: 5\n",
      "(1, 6)\n",
      "demand: 8\n",
      "(2, 6)\n",
      "demand: 9\n"
     ]
    }
   ],
   "source": [
    "for ct in task.lst_customers:\n",
    "    print(ct)"
   ]
  },
  {
   "cell_type": "code",
   "execution_count": 56,
   "id": "eeacba9b",
   "metadata": {},
   "outputs": [],
   "source": [
    "indi = Individual(task)"
   ]
  },
  {
   "cell_type": "code",
   "execution_count": 57,
   "id": "f3f43917",
   "metadata": {},
   "outputs": [
    {
     "name": "stdout",
     "output_type": "stream",
     "text": [
      "Customer 0 deli type 0:\n",
      "Plant 0 -> DC 1 -> Retailer 3\n",
      "Customer 1 deli type 2:\n",
      "Plant 0 -> DC 3 -> Retailer 0\n",
      "Customer 2 deli type 2:\n",
      "Plant 0 -> DC 0 -> Retailer 1\n",
      "Customer 3 deli type 0:\n",
      "Plant 2 -> DC 1 -> Retailer 0\n",
      "Customer 4 deli type 0:\n",
      "Plant 2 -> DC 2 -> Retailer 2\n",
      "Customer 5 deli type 0:\n",
      "Plant 0 -> DC 0 -> Retailer 1\n",
      "Customer 6 deli type 2:\n",
      "Plant 1 -> DC 0 -> Retailer 4\n",
      "Customer 7 deli type 2:\n",
      "Plant 2 -> DC 3 -> Retailer 2\n",
      "Customer 8 deli type 1:\n",
      "Plant 0 -> DC 1 -> Retailer 1\n",
      "Customer 9 deli type 0:\n",
      "Plant 1 -> DC 0 -> Retailer 3\n",
      "\n"
     ]
    }
   ],
   "source": [
    "print(indi)"
   ]
  },
  {
   "cell_type": "code",
   "execution_count": 58,
   "id": "12b87515",
   "metadata": {},
   "outputs": [
    {
     "name": "stdout",
     "output_type": "stream",
     "text": [
      "True\n"
     ]
    }
   ],
   "source": [
    "print(indi.check_valid())"
   ]
  },
  {
   "cell_type": "code",
   "execution_count": 59,
   "id": "a226ec67",
   "metadata": {},
   "outputs": [],
   "source": [
    "indi.fix()"
   ]
  },
  {
   "cell_type": "code",
   "execution_count": 60,
   "id": "d20c3983",
   "metadata": {},
   "outputs": [
    {
     "name": "stdout",
     "output_type": "stream",
     "text": [
      "True\n"
     ]
    }
   ],
   "source": [
    "print(indi.check_valid())"
   ]
  },
  {
   "cell_type": "code",
   "execution_count": 61,
   "id": "f156ab8a",
   "metadata": {},
   "outputs": [],
   "source": [
    "model = Model(100, task=task, crossover=TwoCutCrossover(), mutation=InsertionMutation())"
   ]
  },
  {
   "cell_type": "code",
   "execution_count": 65,
   "id": "fdf085d2",
   "metadata": {},
   "outputs": [
    {
     "name": "stdout",
     "output_type": "stream",
     "text": [
      "Gen 0: best fitness 2606.4136389168407\n",
      "Gen 20: best fitness 2606.4136389168407\n",
      "Gen 40: best fitness 2606.4136389168407\n",
      "Gen 60: best fitness 2606.4136389168407\n",
      "Gen 80: best fitness 2606.4136389168407\n",
      "Gen 100: best fitness 2606.4136389168407\n",
      "Gen 120: best fitness 2606.4136389168407\n",
      "Gen 140: best fitness 2606.4136389168407\n",
      "Gen 160: best fitness 2606.4136389168407\n",
      "Gen 180: best fitness 2606.4136389168407\n",
      "Best found solution:\n",
      "Customer 0 deli type 2:\n",
      "Plant 2 -> DC 3 -> Retailer 4\n",
      "Customer 1 deli type 1:\n",
      "Plant 2 -> DC 3 -> Retailer 4\n",
      "Customer 2 deli type 2:\n",
      "Plant 1 -> DC 3 -> Retailer 4\n",
      "Customer 3 deli type 3:\n",
      "Plant 2 -> DC 3 -> Retailer 4\n",
      "Customer 4 deli type 3:\n",
      "Plant 2 -> DC 3 -> Retailer 4\n",
      "Customer 5 deli type 2:\n",
      "Plant 0 -> DC 3 -> Retailer 4\n",
      "Customer 6 deli type 2:\n",
      "Plant 0 -> DC 3 -> Retailer 4\n",
      "Customer 7 deli type 1:\n",
      "Plant 0 -> DC 3 -> Retailer 4\n",
      "Customer 8 deli type 1:\n",
      "Plant 2 -> DC 3 -> Retailer 4\n",
      "Customer 9 deli type 3:\n",
      "Plant 2 -> DC 3 -> Retailer 4\n",
      "\n"
     ]
    }
   ],
   "source": [
    "model.fit(200, 100, 50, True, 20)"
   ]
  }
 ],
 "metadata": {
  "kernelspec": {
   "display_name": "base",
   "language": "python",
   "name": "python3"
  },
  "language_info": {
   "codemirror_mode": {
    "name": "ipython",
    "version": 3
   },
   "file_extension": ".py",
   "mimetype": "text/x-python",
   "name": "python",
   "nbconvert_exporter": "python",
   "pygments_lexer": "ipython3",
   "version": "3.12.9"
  }
 },
 "nbformat": 4,
 "nbformat_minor": 5
}
