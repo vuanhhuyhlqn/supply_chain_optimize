{
 "cells": [
  {
   "cell_type": "code",
   "execution_count": 1,
   "id": "0787f5be",
   "metadata": {},
   "outputs": [],
   "source": [
    "%load_ext autoreload\n",
    "%autoreload 2\n",
    "import numpy as np\n",
    "from entity import Entity\n",
    "from task import *\n",
    "from plant import Plant\n",
    "from dc import DC\n",
    "from retailer import Retailer\n",
    "from customer import Customer\n",
    "from indi import Individual\n",
    "from crossover import *\n",
    "from mutation import *\n",
    "from GA import Model\n",
    "from task_gen import *"
   ]
  },
  {
   "cell_type": "code",
   "execution_count": null,
   "id": "18744999",
   "metadata": {},
   "outputs": [],
   "source": [
    "task_gen = TaskGenerator(10)\n",
    "task_gen.compile(num_plants=2,\n",
    "                 num_dcs=5,\n",
    "                 num_retailers=8,\n",
    "                 num_customers=20,\n",
    "                 coord_bounds=[0, 1000],\n",
    "                 plant_output_bounds=[1000, 1500],\n",
    "                 dc_cap_bounds=[400, 600],\n",
    "                 retailer_cap_bounds=[100, 200],\n",
    "                 dc_lease_cost_bounds=[0, 100],\n",
    "                 dc_open_cost_bounds=[0, 100],\n",
    "                 retailer_lease_cost_bounds=[0, 100],\n",
    "                 retailer_open_cost_bounds=[0, 100],\n",
    "                 customer_demand_bounds=[20, 50])\n",
    "tasks = task_gen.gen()"
   ]
  },
  {
   "cell_type": "code",
   "execution_count": null,
   "id": "908b968f",
   "metadata": {},
   "outputs": [],
   "source": [
    "for i in range(len(tasks)):\n",
    "    task = tasks[i]\n",
    "    task_name = \"small_task_{0}.pkl\".format(i)\n",
    "    pickle_task(task=task, file_path=\"./instance/small/{0}\".format(task_name))"
   ]
  },
  {
   "cell_type": "code",
   "execution_count": null,
   "id": "530714a2",
   "metadata": {},
   "outputs": [],
   "source": [
    "task_gen = TaskGenerator(10)\n",
    "task_gen.compile(num_plants=3,\n",
    "                 num_dcs=10,\n",
    "                 num_retailers=15,\n",
    "                 num_customers=50,\n",
    "                 coord_bounds=[0, 1000],\n",
    "                 plant_output_bounds=[1000, 1500],\n",
    "                 dc_cap_bounds=[400, 600],\n",
    "                 retailer_cap_bounds=[100, 200],\n",
    "                 dc_lease_cost_bounds=[0, 100],\n",
    "                 dc_open_cost_bounds=[0, 100],\n",
    "                 retailer_lease_cost_bounds=[0, 100],\n",
    "                 retailer_open_cost_bounds=[0, 100],\n",
    "                 customer_demand_bounds=[20, 50])\n",
    "tasks = task_gen.gen()"
   ]
  },
  {
   "cell_type": "code",
   "execution_count": null,
   "id": "5680bdb0",
   "metadata": {},
   "outputs": [],
   "source": [
    "for i in range(len(tasks)):\n",
    "    task = tasks[i]\n",
    "    task_name = \"medium_task_{0}.pkl\".format(i)\n",
    "    pickle_task(task=task, file_path=\"./instance/medium/{0}\".format(task_name))"
   ]
  },
  {
   "cell_type": "code",
   "execution_count": null,
   "id": "643d813a",
   "metadata": {},
   "outputs": [],
   "source": [
    "task_gen = TaskGenerator(10)\n",
    "task_gen.compile(num_plants=5,\n",
    "                 num_dcs=20,\n",
    "                 num_retailers=30,\n",
    "                 num_customers=100,\n",
    "                 coord_bounds=[0, 1000],\n",
    "                 plant_output_bounds=[1000, 1500],\n",
    "                 dc_cap_bounds=[400, 600],\n",
    "                 retailer_cap_bounds=[100, 200],\n",
    "                 dc_lease_cost_bounds=[0, 100],\n",
    "                 dc_open_cost_bounds=[0, 100],\n",
    "                 retailer_lease_cost_bounds=[0, 100],\n",
    "                 retailer_open_cost_bounds=[0, 100],\n",
    "                 customer_demand_bounds=[20, 50])\n",
    "tasks = task_gen.gen()"
   ]
  },
  {
   "cell_type": "code",
   "execution_count": null,
   "id": "8205249a",
   "metadata": {},
   "outputs": [],
   "source": [
    "for i in range(len(tasks)):\n",
    "    task = tasks[i]\n",
    "    task_name = \"large_task_{0}.pkl\".format(i)\n",
    "    pickle_task(task=task, file_path=\"./instance/large/{0}\".format(task_name))"
   ]
  }
 ],
 "metadata": {
  "kernelspec": {
   "display_name": "Python 3",
   "language": "python",
   "name": "python3"
  },
  "language_info": {
   "codemirror_mode": {
    "name": "ipython",
    "version": 3
   },
   "file_extension": ".py",
   "mimetype": "text/x-python",
   "name": "python",
   "nbconvert_exporter": "python",
   "pygments_lexer": "ipython3",
   "version": "3.9.12"
  }
 },
 "nbformat": 4,
 "nbformat_minor": 5
}
