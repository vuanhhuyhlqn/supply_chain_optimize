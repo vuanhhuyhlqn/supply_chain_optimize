{
 "cells": [
  {
   "cell_type": "code",
   "execution_count": 45,
   "id": "fabe2876",
   "metadata": {},
   "outputs": [
    {
     "name": "stdout",
     "output_type": "stream",
     "text": [
      "The autoreload extension is already loaded. To reload it, use:\n",
      "  %reload_ext autoreload\n"
     ]
    }
   ],
   "source": [
    "%load_ext autoreload\n",
    "%autoreload 2\n",
    "from task import *\n",
    "from GA import Model\n",
    "from crossover import *\n",
    "from mutation import *\n",
    "from local_search import *\n",
    "import pandas as pd\n",
    "from tqdm import tqdm\n",
    "import time"
   ]
  },
  {
   "cell_type": "code",
   "execution_count": 46,
   "id": "cc3e6342",
   "metadata": {},
   "outputs": [],
   "source": [
    "num_run = 10"
   ]
  },
  {
   "cell_type": "code",
   "execution_count": null,
   "id": "278b25f9",
   "metadata": {},
   "outputs": [],
   "source": [
    "def run_task(task_type, task_id, num_run, pop_sizes: List[int], num_lss: List[int]):\n",
    "\tcounter = 0\n",
    "\tfor i in range(num_run):\n",
    "\t\tif task_type == \"small\":\n",
    "\t\t\tsmall_task = load_small_task(task_id)\n",
    "\t\tfor pop_size in pop_sizes:\n",
    "\t\t\tfor num_ls in num_lss:\n",
    "\t\t\t\tstart_time = time.time()\n",
    "\t\t\t\tcounter += 1\n",
    "\t\t\t\tnp.random.seed(counter)\n",
    "\t\t\t\t\n",
    "\t\t\t\tmodel = Model(pop_size=pop_size, \n",
    "\t\t\t\t\t\ttask=small_task, \n",
    "\t\t\t\t\t\tcrossover=TwoCutCrossover(), \n",
    "\t\t\t\t\t\tmutation=InsertionMutation(), \n",
    "\t\t\t\t\t\tlocalsearch=SimpleLocalSearch())\n",
    "\t\t\t\tbfs, _ = model.fit(num_gen=100, \n",
    "\t\t\t\t\t\t\t\tnum_crossover=pop_size, \n",
    "\t\t\t\t\t\t\t\tnum_mutation=int(pop_size * 0.05), \n",
    "\t\t\t\t\t\t\t\tnum_ls=num_ls, \n",
    "\t\t\t\t\t\t\t\tmonitor=False)\n",
    "\t\t\t\tbfs = np.array(bfs)\n",
    "\t\t\t\tdf = pd.DataFrame(bfs.T)\n",
    "\t\t\t\tdf.to_csv(\"result/small/\" + \"task_{0}_popsize{1}_numls{2}_{3}\".format(task_id, pop_size, num_ls, i))\n",
    "\t\t\t\tprint(\"Task {0}, num run {1}, pop size {2}, num ls {3}, time taken: {4:0.3f}s\".format(task_id, i, pop_size, num_ls, time.time() - start_time))\n",
    "\t\t\t\t"
   ]
  },
  {
   "cell_type": "code",
   "execution_count": 48,
   "id": "68b5aee4",
   "metadata": {},
   "outputs": [
    {
     "name": "stdout",
     "output_type": "stream",
     "text": [
      "Task 0, num run 0, pop size 100, num ls 0, time taken: 2.160s\n",
      "Task 0, num run 0, pop size 100, num ls 10, time taken: 3.770s\n",
      "Task 0, num run 0, pop size 200, num ls 0, time taken: 4.533s\n",
      "Task 0, num run 0, pop size 200, num ls 10, time taken: 5.680s\n",
      "Task 0, num run 1, pop size 100, num ls 0, time taken: 2.481s\n",
      "Task 0, num run 1, pop size 100, num ls 10, time taken: 3.780s\n",
      "Task 0, num run 1, pop size 200, num ls 0, time taken: 4.468s\n",
      "Task 0, num run 1, pop size 200, num ls 10, time taken: 5.223s\n",
      "Task 0, num run 2, pop size 100, num ls 0, time taken: 2.361s\n",
      "Task 0, num run 2, pop size 100, num ls 10, time taken: 3.862s\n",
      "Task 0, num run 2, pop size 200, num ls 0, time taken: 4.784s\n",
      "Task 0, num run 2, pop size 200, num ls 10, time taken: 5.422s\n",
      "Task 0, num run 3, pop size 100, num ls 0, time taken: 1.337s\n",
      "Task 0, num run 3, pop size 100, num ls 10, time taken: 1.586s\n",
      "Task 0, num run 3, pop size 200, num ls 0, time taken: 2.128s\n",
      "Task 0, num run 3, pop size 200, num ls 10, time taken: 3.673s\n",
      "Task 0, num run 4, pop size 100, num ls 0, time taken: 1.140s\n",
      "Task 0, num run 4, pop size 100, num ls 10, time taken: 2.570s\n",
      "Task 0, num run 4, pop size 200, num ls 0, time taken: 2.196s\n",
      "Task 0, num run 4, pop size 200, num ls 10, time taken: 2.193s\n",
      "Task 0, num run 5, pop size 100, num ls 0, time taken: 1.183s\n",
      "Task 0, num run 5, pop size 100, num ls 10, time taken: 1.734s\n",
      "Task 0, num run 5, pop size 200, num ls 0, time taken: 1.868s\n",
      "Task 0, num run 5, pop size 200, num ls 10, time taken: 2.153s\n",
      "Task 0, num run 6, pop size 100, num ls 0, time taken: 0.920s\n",
      "Task 0, num run 6, pop size 100, num ls 10, time taken: 1.395s\n",
      "Task 0, num run 6, pop size 200, num ls 0, time taken: 2.000s\n",
      "Task 0, num run 6, pop size 200, num ls 10, time taken: 2.696s\n",
      "Task 0, num run 7, pop size 100, num ls 0, time taken: 1.065s\n",
      "Task 0, num run 7, pop size 100, num ls 10, time taken: 1.774s\n",
      "Task 0, num run 7, pop size 200, num ls 0, time taken: 1.985s\n",
      "Task 0, num run 7, pop size 200, num ls 10, time taken: 2.579s\n",
      "Task 0, num run 8, pop size 100, num ls 0, time taken: 1.046s\n",
      "Task 0, num run 8, pop size 100, num ls 10, time taken: 1.402s\n",
      "Task 0, num run 8, pop size 200, num ls 0, time taken: 1.762s\n",
      "Task 0, num run 8, pop size 200, num ls 10, time taken: 2.502s\n",
      "Task 0, num run 9, pop size 100, num ls 0, time taken: 1.045s\n",
      "Task 0, num run 9, pop size 100, num ls 10, time taken: 1.796s\n",
      "Task 0, num run 9, pop size 200, num ls 0, time taken: 1.852s\n",
      "Task 0, num run 9, pop size 200, num ls 10, time taken: 2.249s\n"
     ]
    }
   ],
   "source": [
    "run_small_task(task_id=0, num_run=10, pop_sizes=[100, 200], num_lss=[0, 10])"
   ]
  },
  {
   "cell_type": "code",
   "execution_count": null,
   "id": "68846244",
   "metadata": {},
   "outputs": [],
   "source": [
    "for task_id in range(10)"
   ]
  }
 ],
 "metadata": {
  "kernelspec": {
   "display_name": "Python 3",
   "language": "python",
   "name": "python3"
  },
  "language_info": {
   "codemirror_mode": {
    "name": "ipython",
    "version": 3
   },
   "file_extension": ".py",
   "mimetype": "text/x-python",
   "name": "python",
   "nbconvert_exporter": "python",
   "pygments_lexer": "ipython3",
   "version": "3.9.12"
  }
 },
 "nbformat": 4,
 "nbformat_minor": 5
}
