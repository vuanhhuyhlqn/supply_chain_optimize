{
 "cells": [
  {
   "cell_type": "code",
   "execution_count": 13,
   "id": "fabe2876",
   "metadata": {},
   "outputs": [
    {
     "name": "stdout",
     "output_type": "stream",
     "text": [
      "The autoreload extension is already loaded. To reload it, use:\n",
      "  %reload_ext autoreload\n"
     ]
    }
   ],
   "source": [
    "%load_ext autoreload\n",
    "%autoreload 2\n",
    "from task import *\n",
    "from GA import Model\n",
    "from crossover import *\n",
    "from mutation import *\n",
    "from local_search import *\n",
    "import pandas as pd\n",
    "from tqdm import tqdm"
   ]
  },
  {
   "cell_type": "code",
   "execution_count": 14,
   "id": "cc3e6342",
   "metadata": {},
   "outputs": [],
   "source": [
    "num_run = 10"
   ]
  },
  {
   "cell_type": "markdown",
   "id": "ea7a5c48",
   "metadata": {},
   "source": [
    "#### Small Tasks"
   ]
  },
  {
   "cell_type": "code",
   "execution_count": 15,
   "id": "4f2aaca8",
   "metadata": {},
   "outputs": [
    {
     "name": "stderr",
     "output_type": "stream",
     "text": [
      "  0%|          | 0/10 [00:01<?, ?it/s]\n"
     ]
    },
    {
     "ename": "IndexError",
     "evalue": "list index out of range",
     "output_type": "error",
     "traceback": [
      "\u001b[1;31m---------------------------------------------------------------------------\u001b[0m",
      "\u001b[1;31mIndexError\u001b[0m                                Traceback (most recent call last)",
      "Cell \u001b[1;32mIn[15], line 12\u001b[0m\n\u001b[0;32m      6\u001b[0m pop_size \u001b[38;5;241m=\u001b[39m \u001b[38;5;241m200\u001b[39m\n\u001b[0;32m      7\u001b[0m model \u001b[38;5;241m=\u001b[39m Model(pop_size\u001b[38;5;241m=\u001b[39mpop_size, \n\u001b[0;32m      8\u001b[0m \t\ttask\u001b[38;5;241m=\u001b[39msmall_task, \n\u001b[0;32m      9\u001b[0m \t\tcrossover\u001b[38;5;241m=\u001b[39mTwoCutCrossover(), \n\u001b[0;32m     10\u001b[0m \t\tmutation\u001b[38;5;241m=\u001b[39mInsertionMutation(), \n\u001b[0;32m     11\u001b[0m \t\tlocalsearch\u001b[38;5;241m=\u001b[39mSimpleLocalSearch())\n\u001b[1;32m---> 12\u001b[0m bfs_ls, _ \u001b[38;5;241m=\u001b[39m \u001b[43mmodel\u001b[49m\u001b[38;5;241;43m.\u001b[39;49m\u001b[43mfit\u001b[49m\u001b[43m(\u001b[49m\u001b[43mnum_gen\u001b[49m\u001b[38;5;241;43m=\u001b[39;49m\u001b[38;5;241;43m100\u001b[39;49m\u001b[43m,\u001b[49m\u001b[43m \u001b[49m\n\u001b[0;32m     13\u001b[0m \u001b[43m\t\t\t\t   \u001b[49m\u001b[43mnum_crossover\u001b[49m\u001b[38;5;241;43m=\u001b[39;49m\u001b[38;5;241;43m100\u001b[39;49m\u001b[43m,\u001b[49m\u001b[43m \u001b[49m\n\u001b[0;32m     14\u001b[0m \u001b[43m\t\t\t\t   \u001b[49m\u001b[43mnum_mutation\u001b[49m\u001b[38;5;241;43m=\u001b[39;49m\u001b[38;5;241;43m5\u001b[39;49m\u001b[43m,\u001b[49m\u001b[43m \u001b[49m\n\u001b[0;32m     15\u001b[0m \u001b[43m\t\t\t\t   \u001b[49m\u001b[43mnum_ls\u001b[49m\u001b[38;5;241;43m=\u001b[39;49m\u001b[38;5;241;43m10\u001b[39;49m\u001b[43m,\u001b[49m\u001b[43m \u001b[49m\n\u001b[0;32m     16\u001b[0m \u001b[43m\t\t\t\t   \u001b[49m\u001b[43mmonitor\u001b[49m\u001b[38;5;241;43m=\u001b[39;49m\u001b[38;5;28;43;01mFalse\u001b[39;49;00m\u001b[43m)\u001b[49m\n\u001b[0;32m     17\u001b[0m bfs_ls \u001b[38;5;241m=\u001b[39m np\u001b[38;5;241m.\u001b[39marray(bfs_ls)\n\u001b[0;32m     18\u001b[0m df \u001b[38;5;241m=\u001b[39m pd\u001b[38;5;241m.\u001b[39mDataFrame(bfs_ls\u001b[38;5;241m.\u001b[39mT)\n",
      "File \u001b[1;32mc:\\Users\\madmo\\Workspace\\project2_supply_chain_optimize\\GA.py:83\u001b[0m, in \u001b[0;36mModel.fit\u001b[1;34m(self, num_gen, num_crossover, num_mutation, num_ls, monitor, monitor_rate)\u001b[0m\n\u001b[0;32m     80\u001b[0m best_fitness \u001b[38;5;241m=\u001b[39m \u001b[38;5;28mself\u001b[39m\u001b[38;5;241m.\u001b[39mpop[\u001b[38;5;241m0\u001b[39m]\u001b[38;5;241m.\u001b[39mfitness\n\u001b[0;32m     82\u001b[0m \u001b[38;5;28;01mif\u001b[39;00m \u001b[38;5;28mlen\u001b[39m(\u001b[38;5;28mself\u001b[39m\u001b[38;5;241m.\u001b[39mbfs) \u001b[38;5;241m>\u001b[39m \u001b[38;5;241m5\u001b[39m:\n\u001b[1;32m---> 83\u001b[0m     \u001b[38;5;28;01mif\u001b[39;00m isclose(best_fitness, \u001b[38;5;28;43mself\u001b[39;49m\u001b[38;5;241;43m.\u001b[39;49m\u001b[43mbfs\u001b[49m\u001b[43m[\u001b[49m\u001b[38;5;241;43m-\u001b[39;49m\u001b[38;5;241;43m10\u001b[39;49m\u001b[43m]\u001b[49m):\n\u001b[0;32m     84\u001b[0m         \u001b[38;5;28;01mif\u001b[39;00m monitor:\n\u001b[0;32m     85\u001b[0m             \u001b[38;5;28mprint\u001b[39m(\u001b[38;5;124m\"\u001b[39m\u001b[38;5;124mEARLY STOP\u001b[39m\u001b[38;5;124m\"\u001b[39m)\n",
      "\u001b[1;31mIndexError\u001b[0m: list index out of range"
     ]
    }
   ],
   "source": [
    "for i in range(5):\n",
    "\tsmall_task = load_small_task(i)\n",
    "\tfor j in tqdm(range(num_run)):\n",
    "\t\tnp.random.seed(j)\n",
    "\t\t# local search enable\n",
    "\t\tpop_size = 200\n",
    "\t\tmodel = Model(pop_size=pop_size, \n",
    "\t\t\t\ttask=small_task, \n",
    "\t\t\t\tcrossover=TwoCutCrossover(), \n",
    "\t\t\t\tmutation=InsertionMutation(), \n",
    "\t\t\t\tlocalsearch=SimpleLocalSearch())\n",
    "\t\tbfs_ls, _ = model.fit(num_gen=100, \n",
    "\t\t\t\t\t\t   num_crossover=100, \n",
    "\t\t\t\t\t\t   num_mutation=5, \n",
    "\t\t\t\t\t\t   num_ls=10, \n",
    "\t\t\t\t\t\t   monitor=False)\n",
    "\t\tbfs_ls = np.array(bfs_ls)\n",
    "\t\tdf = pd.DataFrame(bfs_ls.T)\n",
    "\t\tdf.to_csv(\"result/\" + \"small/\" + \"task_{0}_ls_popsize{1}_{2}\".format(i, pop_size, j))\n",
    "\n",
    "\n"
   ]
  }
 ],
 "metadata": {
  "kernelspec": {
   "display_name": "Python 3",
   "language": "python",
   "name": "python3"
  },
  "language_info": {
   "codemirror_mode": {
    "name": "ipython",
    "version": 3
   },
   "file_extension": ".py",
   "mimetype": "text/x-python",
   "name": "python",
   "nbconvert_exporter": "python",
   "pygments_lexer": "ipython3",
   "version": "3.9.12"
  }
 },
 "nbformat": 4,
 "nbformat_minor": 5
}
