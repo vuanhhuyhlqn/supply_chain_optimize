{
 "cells": [
  {
   "cell_type": "code",
   "execution_count": 45,
   "id": "fabe2876",
   "metadata": {},
   "outputs": [
    {
     "name": "stdout",
     "output_type": "stream",
     "text": [
      "The autoreload extension is already loaded. To reload it, use:\n",
      "  %reload_ext autoreload\n"
     ]
    }
   ],
   "source": [
    "%load_ext autoreload\n",
    "%autoreload 2\n",
    "from task import *\n",
    "from GA import Model\n",
    "from crossover import *\n",
    "from mutation import *\n",
    "from local_search import *\n",
    "import pandas as pd\n",
    "from tqdm import tqdm\n",
    "import time"
   ]
  },
  {
   "cell_type": "code",
   "execution_count": 46,
   "id": "cc3e6342",
   "metadata": {},
   "outputs": [],
   "source": [
    "num_run = 10"
   ]
  },
  {
   "cell_type": "code",
   "execution_count": 53,
   "id": "278b25f9",
   "metadata": {},
   "outputs": [],
   "source": [
    "def run_task(task_type, task_id, num_run, pop_sizes: List[int], num_lss: List[int]):\n",
    "\tcounter = 0\n",
    "\tfor i in range(num_run):\n",
    "\t\tif task_type == \"small\":\n",
    "\t\t\ttask = load_small_task(task_id)\n",
    "\t\telif task_type == \"medium\":\n",
    "\t\t\ttask = load_medium_task(task_id)\n",
    "\t\telse:\n",
    "\t\t\ttask = load_large_task(task_id)\n",
    "\n",
    "\t\tfor pop_size in pop_sizes:\n",
    "\t\t\tfor num_ls in num_lss:\n",
    "\t\t\t\tstart_time = time.time()\n",
    "\t\t\t\tcounter += 1\n",
    "\t\t\t\tnp.random.seed(counter)\n",
    "\t\t\t\t\n",
    "\t\t\t\tmodel = Model(pop_size=pop_size, \n",
    "\t\t\t\t\t\ttask=task, \n",
    "\t\t\t\t\t\tcrossover=TwoCutCrossover(), \n",
    "\t\t\t\t\t\tmutation=InsertionMutation(), \n",
    "\t\t\t\t\t\tlocalsearch=SimpleLocalSearch())\n",
    "\t\t\t\tbfs, _ = model.fit(num_gen=100, \n",
    "\t\t\t\t\t\t\t\tnum_crossover=pop_size, \n",
    "\t\t\t\t\t\t\t\tnum_mutation=int(pop_size * 0.05), \n",
    "\t\t\t\t\t\t\t\tnum_ls=num_ls, \n",
    "\t\t\t\t\t\t\t\tmonitor=False)\n",
    "\t\t\t\tbfs = np.array(bfs)\n",
    "\t\t\t\tdf = pd.DataFrame(bfs.T)\n",
    "\t\t\t\tdf.to_csv(\"result/\" + task_type + \"/\" + \"task_{0}_popsize{1}_numls{2}_{3}\".format(task_id, pop_size, num_ls, i))\n",
    "\t\t\t\tprint(\"Task {0}, num run {1}, pop size {2}, num ls {3}, time taken: {4:0.3f}s\".format(task_id, i, pop_size, num_ls, time.time() - start_time))\n",
    "\t\t\t\t"
   ]
  },
  {
   "cell_type": "code",
   "execution_count": 54,
   "id": "68b5aee4",
   "metadata": {},
   "outputs": [
    {
     "name": "stdout",
     "output_type": "stream",
     "text": [
      "Task 0, num run 0, pop size 100, num ls 0, time taken: 0.888s\n"
     ]
    },
    {
     "ename": "KeyboardInterrupt",
     "evalue": "",
     "output_type": "error",
     "traceback": [
      "\u001b[1;31m---------------------------------------------------------------------------\u001b[0m",
      "\u001b[1;31mKeyboardInterrupt\u001b[0m                         Traceback (most recent call last)",
      "Cell \u001b[1;32mIn[54], line 1\u001b[0m\n\u001b[1;32m----> 1\u001b[0m \u001b[43mrun_task\u001b[49m\u001b[43m(\u001b[49m\u001b[38;5;124;43m\"\u001b[39;49m\u001b[38;5;124;43msmall\u001b[39;49m\u001b[38;5;124;43m\"\u001b[39;49m\u001b[43m,\u001b[49m\u001b[43m \u001b[49m\u001b[43mtask_id\u001b[49m\u001b[38;5;241;43m=\u001b[39;49m\u001b[38;5;241;43m0\u001b[39;49m\u001b[43m,\u001b[49m\u001b[43m \u001b[49m\u001b[43mnum_run\u001b[49m\u001b[38;5;241;43m=\u001b[39;49m\u001b[38;5;241;43m10\u001b[39;49m\u001b[43m,\u001b[49m\u001b[43m \u001b[49m\u001b[43mpop_sizes\u001b[49m\u001b[38;5;241;43m=\u001b[39;49m\u001b[43m[\u001b[49m\u001b[38;5;241;43m100\u001b[39;49m\u001b[43m,\u001b[49m\u001b[43m \u001b[49m\u001b[38;5;241;43m200\u001b[39;49m\u001b[43m]\u001b[49m\u001b[43m,\u001b[49m\u001b[43m \u001b[49m\u001b[43mnum_lss\u001b[49m\u001b[38;5;241;43m=\u001b[39;49m\u001b[43m[\u001b[49m\u001b[38;5;241;43m0\u001b[39;49m\u001b[43m,\u001b[49m\u001b[43m \u001b[49m\u001b[38;5;241;43m10\u001b[39;49m\u001b[43m]\u001b[49m\u001b[43m)\u001b[49m\n",
      "Cell \u001b[1;32mIn[53], line 22\u001b[0m, in \u001b[0;36mrun_task\u001b[1;34m(task_type, task_id, num_run, pop_sizes, num_lss)\u001b[0m\n\u001b[0;32m     15\u001b[0m np\u001b[38;5;241m.\u001b[39mrandom\u001b[38;5;241m.\u001b[39mseed(counter)\n\u001b[0;32m     17\u001b[0m model \u001b[38;5;241m=\u001b[39m Model(pop_size\u001b[38;5;241m=\u001b[39mpop_size, \n\u001b[0;32m     18\u001b[0m \t\ttask\u001b[38;5;241m=\u001b[39mtask, \n\u001b[0;32m     19\u001b[0m \t\tcrossover\u001b[38;5;241m=\u001b[39mTwoCutCrossover(), \n\u001b[0;32m     20\u001b[0m \t\tmutation\u001b[38;5;241m=\u001b[39mInsertionMutation(), \n\u001b[0;32m     21\u001b[0m \t\tlocalsearch\u001b[38;5;241m=\u001b[39mSimpleLocalSearch())\n\u001b[1;32m---> 22\u001b[0m bfs, _ \u001b[38;5;241m=\u001b[39m \u001b[43mmodel\u001b[49m\u001b[38;5;241;43m.\u001b[39;49m\u001b[43mfit\u001b[49m\u001b[43m(\u001b[49m\u001b[43mnum_gen\u001b[49m\u001b[38;5;241;43m=\u001b[39;49m\u001b[38;5;241;43m100\u001b[39;49m\u001b[43m,\u001b[49m\u001b[43m \u001b[49m\n\u001b[0;32m     23\u001b[0m \u001b[43m\t\t\t\t\u001b[49m\u001b[43mnum_crossover\u001b[49m\u001b[38;5;241;43m=\u001b[39;49m\u001b[43mpop_size\u001b[49m\u001b[43m,\u001b[49m\u001b[43m \u001b[49m\n\u001b[0;32m     24\u001b[0m \u001b[43m\t\t\t\t\u001b[49m\u001b[43mnum_mutation\u001b[49m\u001b[38;5;241;43m=\u001b[39;49m\u001b[38;5;28;43mint\u001b[39;49m\u001b[43m(\u001b[49m\u001b[43mpop_size\u001b[49m\u001b[43m \u001b[49m\u001b[38;5;241;43m*\u001b[39;49m\u001b[43m \u001b[49m\u001b[38;5;241;43m0.05\u001b[39;49m\u001b[43m)\u001b[49m\u001b[43m,\u001b[49m\u001b[43m \u001b[49m\n\u001b[0;32m     25\u001b[0m \u001b[43m\t\t\t\t\u001b[49m\u001b[43mnum_ls\u001b[49m\u001b[38;5;241;43m=\u001b[39;49m\u001b[43mnum_ls\u001b[49m\u001b[43m,\u001b[49m\u001b[43m \u001b[49m\n\u001b[0;32m     26\u001b[0m \u001b[43m\t\t\t\t\u001b[49m\u001b[43mmonitor\u001b[49m\u001b[38;5;241;43m=\u001b[39;49m\u001b[38;5;28;43;01mFalse\u001b[39;49;00m\u001b[43m)\u001b[49m\n\u001b[0;32m     27\u001b[0m bfs \u001b[38;5;241m=\u001b[39m np\u001b[38;5;241m.\u001b[39marray(bfs)\n\u001b[0;32m     28\u001b[0m df \u001b[38;5;241m=\u001b[39m pd\u001b[38;5;241m.\u001b[39mDataFrame(bfs\u001b[38;5;241m.\u001b[39mT)\n",
      "File \u001b[1;32mc:\\Users\\madmo\\Workspace\\project2_supply_chain_optimize\\GA.py:70\u001b[0m, in \u001b[0;36mModel.fit\u001b[1;34m(self, num_gen, num_crossover, num_mutation, num_ls, monitor, monitor_rate)\u001b[0m\n\u001b[0;32m     68\u001b[0m \u001b[38;5;28;01mwhile\u001b[39;00m \u001b[38;5;28mlen\u001b[39m(off_ls) \u001b[38;5;241m<\u001b[39m num_ls:\n\u001b[0;32m     69\u001b[0m     p \u001b[38;5;241m=\u001b[39m \u001b[38;5;28mself\u001b[39m\u001b[38;5;241m.\u001b[39mget_random_indi()\n\u001b[1;32m---> 70\u001b[0m     ols \u001b[38;5;241m=\u001b[39m \u001b[38;5;28;43mself\u001b[39;49m\u001b[38;5;241;43m.\u001b[39;49m\u001b[43mlocalsearch\u001b[49m\u001b[43m(\u001b[49m\u001b[43mp\u001b[49m\u001b[43m)\u001b[49m\n\u001b[0;32m     71\u001b[0m     \u001b[38;5;28;01mwhile\u001b[39;00m ols\u001b[38;5;241m.\u001b[39mcheck_valid \u001b[38;5;241m==\u001b[39m \u001b[38;5;28;01mFalse\u001b[39;00m:\n\u001b[0;32m     72\u001b[0m         ols\u001b[38;5;241m.\u001b[39mfix()\n",
      "File \u001b[1;32mc:\\Users\\madmo\\Workspace\\project2_supply_chain_optimize\\local_search\\simple.py:44\u001b[0m, in \u001b[0;36mSimpleLocalSearch.__call__\u001b[1;34m(self, p)\u001b[0m\n\u001b[0;32m     43\u001b[0m \u001b[38;5;28;01mdef\u001b[39;00m\u001b[38;5;250m \u001b[39m\u001b[38;5;21m__call__\u001b[39m(\u001b[38;5;28mself\u001b[39m, p: Individual) \u001b[38;5;241m-\u001b[39m\u001b[38;5;241m>\u001b[39m Individual:\n\u001b[1;32m---> 44\u001b[0m \t\u001b[38;5;28;01mreturn\u001b[39;00m \u001b[38;5;28;43mself\u001b[39;49m\u001b[38;5;241;43m.\u001b[39;49m\u001b[43mlocalsearch\u001b[49m\u001b[43m(\u001b[49m\u001b[43mp\u001b[49m\u001b[43m)\u001b[49m\n",
      "File \u001b[1;32mc:\\Users\\madmo\\Workspace\\project2_supply_chain_optimize\\local_search\\simple.py:33\u001b[0m, in \u001b[0;36mSimpleLocalSearch.localsearch\u001b[1;34m(self, p)\u001b[0m\n\u001b[0;32m     30\u001b[0m \tgene_x \u001b[38;5;241m=\u001b[39m x\u001b[38;5;241m.\u001b[39mgene\u001b[38;5;241m.\u001b[39mcopy()\n\u001b[0;32m     31\u001b[0m \tdeli_types_x \u001b[38;5;241m=\u001b[39m x\u001b[38;5;241m.\u001b[39mdeli_types\u001b[38;5;241m.\u001b[39mcopy()\n\u001b[1;32m---> 33\u001b[0m x\u001b[38;5;241m.\u001b[39mfitness \u001b[38;5;241m=\u001b[39m \u001b[43mx\u001b[49m\u001b[38;5;241;43m.\u001b[39;49m\u001b[43meval\u001b[49m\u001b[43m(\u001b[49m\u001b[43m)\u001b[49m\n\u001b[0;32m     35\u001b[0m \u001b[38;5;28;01mif\u001b[39;00m x\u001b[38;5;241m.\u001b[39mfitness \u001b[38;5;241m<\u001b[39m best_fitness:\n\u001b[0;32m     36\u001b[0m \tbest_fitness \u001b[38;5;241m=\u001b[39m x\u001b[38;5;241m.\u001b[39mfitness\n",
      "File \u001b[1;32mc:\\Users\\madmo\\Workspace\\project2_supply_chain_optimize\\indi.py:167\u001b[0m, in \u001b[0;36mIndividual.eval\u001b[1;34m(self)\u001b[0m\n\u001b[0;32m    165\u001b[0m \tcost \u001b[38;5;241m+\u001b[39m\u001b[38;5;241m=\u001b[39m \u001b[38;5;28mself\u001b[39m\u001b[38;5;241m.\u001b[39mnormal_deli_cost(plant_id, dc_id, retailer_id, customer_id)\n\u001b[0;32m    166\u001b[0m \u001b[38;5;28;01mif\u001b[39;00m \u001b[38;5;28mself\u001b[39m\u001b[38;5;241m.\u001b[39mdeli_types[customer_id] \u001b[38;5;241m==\u001b[39m \u001b[38;5;241m1\u001b[39m:\n\u001b[1;32m--> 167\u001b[0m \tcost \u001b[38;5;241m+\u001b[39m\u001b[38;5;241m=\u001b[39m \u001b[38;5;28;43mself\u001b[39;49m\u001b[38;5;241;43m.\u001b[39;49m\u001b[43mdirect_ship_cost\u001b[49m\u001b[43m(\u001b[49m\u001b[43mplant_id\u001b[49m\u001b[43m,\u001b[49m\u001b[43m \u001b[49m\u001b[43mdc_id\u001b[49m\u001b[43m,\u001b[49m\u001b[43m \u001b[49m\u001b[43mretailer_id\u001b[49m\u001b[43m,\u001b[49m\u001b[43m \u001b[49m\u001b[43mcustomer_id\u001b[49m\u001b[43m)\u001b[49m\n\u001b[0;32m    168\u001b[0m \u001b[38;5;28;01mif\u001b[39;00m \u001b[38;5;28mself\u001b[39m\u001b[38;5;241m.\u001b[39mdeli_types[customer_id] \u001b[38;5;241m==\u001b[39m \u001b[38;5;241m2\u001b[39m:\n\u001b[0;32m    169\u001b[0m \tcost \u001b[38;5;241m+\u001b[39m\u001b[38;5;241m=\u001b[39m \u001b[38;5;28mself\u001b[39m\u001b[38;5;241m.\u001b[39mdirect_deli_t1_cost(plant_id, dc_id, retailer_id, customer_id)\n",
      "File \u001b[1;32mc:\\Users\\madmo\\Workspace\\project2_supply_chain_optimize\\indi.py:193\u001b[0m, in \u001b[0;36mIndividual.direct_ship_cost\u001b[1;34m(self, plant_id, dc_id, retailer_id, customer_id)\u001b[0m\n\u001b[0;32m    191\u001b[0m plant, dc, retailer, customer \u001b[38;5;241m=\u001b[39m get_route_entities(\u001b[38;5;28mself\u001b[39m\u001b[38;5;241m.\u001b[39mtask, plant_id, dc_id, retailer_id, customer_id)\n\u001b[0;32m    192\u001b[0m load \u001b[38;5;241m=\u001b[39m customer\u001b[38;5;241m.\u001b[39mdemand\n\u001b[1;32m--> 193\u001b[0m \u001b[38;5;28;01mreturn\u001b[39;00m load \u001b[38;5;241m*\u001b[39m (\u001b[43mdist\u001b[49m\u001b[43m(\u001b[49m\u001b[43mplant\u001b[49m\u001b[43m,\u001b[49m\u001b[43m \u001b[49m\u001b[43mcustomer\u001b[49m\u001b[43m)\u001b[49m \u001b[38;5;241m+\u001b[39m \u001b[38;5;28mself\u001b[39m\u001b[38;5;241m.\u001b[39mtask\u001b[38;5;241m.\u001b[39mb[\u001b[38;5;241m1\u001b[39m])\u001b[38;5;241m*\u001b[39m \u001b[38;5;28mself\u001b[39m\u001b[38;5;241m.\u001b[39mtask\u001b[38;5;241m.\u001b[39ma[\u001b[38;5;241m1\u001b[39m]\n",
      "File \u001b[1;32mc:\\Users\\madmo\\Workspace\\project2_supply_chain_optimize\\utils.py:12\u001b[0m, in \u001b[0;36mdist\u001b[1;34m(entity_a, entity_b)\u001b[0m\n\u001b[0;32m     11\u001b[0m \u001b[38;5;28;01mdef\u001b[39;00m\u001b[38;5;250m \u001b[39m\u001b[38;5;21mdist\u001b[39m(entity_a: Entity, entity_b: Entity):\n\u001b[1;32m---> 12\u001b[0m     \u001b[38;5;28;01mreturn\u001b[39;00m sqrt((entity_a\u001b[38;5;241m.\u001b[39mcoord_x \u001b[38;5;241m-\u001b[39m entity_b\u001b[38;5;241m.\u001b[39mcoord_x) \u001b[38;5;241m*\u001b[39m\u001b[38;5;241m*\u001b[39m \u001b[38;5;241m2\u001b[39m \u001b[38;5;241m+\u001b[39m (\u001b[43mentity_a\u001b[49m\u001b[38;5;241;43m.\u001b[39;49m\u001b[43mcoord_y\u001b[49m \u001b[38;5;241m-\u001b[39m entity_b\u001b[38;5;241m.\u001b[39mcoord_y) \u001b[38;5;241m*\u001b[39m\u001b[38;5;241m*\u001b[39m \u001b[38;5;241m2\u001b[39m)\n",
      "\u001b[1;31mKeyboardInterrupt\u001b[0m: "
     ]
    }
   ],
   "source": [
    "run_task(\"small\", task_id=0, num_run=10, pop_sizes=[100, 200], num_lss=[0, 10])"
   ]
  },
  {
   "cell_type": "code",
   "execution_count": null,
   "id": "68846244",
   "metadata": {},
   "outputs": [],
   "source": [
    "for task_id in range(10):\n",
    "    run_task(\"small\", \"\")"
   ]
  }
 ],
 "metadata": {
  "kernelspec": {
   "display_name": "Python 3",
   "language": "python",
   "name": "python3"
  },
  "language_info": {
   "codemirror_mode": {
    "name": "ipython",
    "version": 3
   },
   "file_extension": ".py",
   "mimetype": "text/x-python",
   "name": "python",
   "nbconvert_exporter": "python",
   "pygments_lexer": "ipython3",
   "version": "3.9.12"
  }
 },
 "nbformat": 4,
 "nbformat_minor": 5
}
