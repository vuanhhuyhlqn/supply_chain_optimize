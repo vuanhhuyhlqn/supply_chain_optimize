{
 "cells": [
  {
   "cell_type": "code",
   "execution_count": 16,
   "id": "fabe2876",
   "metadata": {},
   "outputs": [
    {
     "name": "stdout",
     "output_type": "stream",
     "text": [
      "The autoreload extension is already loaded. To reload it, use:\n",
      "  %reload_ext autoreload\n"
     ]
    }
   ],
   "source": [
    "%load_ext autoreload\n",
    "%autoreload 2\n",
    "from task import *\n",
    "from GA import Model\n",
    "from crossover import *\n",
    "from mutation import *\n",
    "from local_search import *\n",
    "import pandas as pd\n",
    "from tqdm import tqdm"
   ]
  },
  {
   "cell_type": "code",
   "execution_count": 17,
   "id": "cc3e6342",
   "metadata": {},
   "outputs": [],
   "source": [
    "num_run = 10"
   ]
  },
  {
   "cell_type": "markdown",
   "id": "ea7a5c48",
   "metadata": {},
   "source": [
    "#### Small Tasks"
   ]
  },
  {
   "cell_type": "code",
   "execution_count": null,
   "id": "4f2aaca8",
   "metadata": {},
   "outputs": [
    {
     "name": "stderr",
     "output_type": "stream",
     "text": [
      "100%|██████████| 10/10 [00:47<00:00,  4.72s/it]\n",
      "100%|██████████| 10/10 [00:55<00:00,  5.56s/it]\n",
      "100%|██████████| 10/10 [01:06<00:00,  6.67s/it]\n",
      "100%|██████████| 10/10 [00:48<00:00,  4.85s/it]\n",
      "100%|██████████| 10/10 [00:58<00:00,  5.89s/it]\n"
     ]
    }
   ],
   "source": [
    "for i in range(5):\n",
    "\tsmall_task = load_small_task(i)\n",
    "\tfor j in tqdm(range(num_run)):\n",
    "\t\tnp.random.seed(j)\n",
    "\t\t# local search enable\n",
    "\t\tpop_size = 100\n",
    "\t\tmodel = Model(pop_size=pop_size, \n",
    "\t\t\t\ttask=small_task, \n",
    "\t\t\t\tcrossover=TwoCutCrossover(), \n",
    "\t\t\t\tmutation=InsertionMutation(), \n",
    "\t\t\t\tlocalsearch=SimpleLocalSearch())\n",
    "\t\tbfs_ls, _ = model.fit(num_gen=100, \n",
    "\t\t\t\t\t\t   num_crossover=100, \n",
    "\t\t\t\t\t\t   num_mutation=5, \n",
    "\t\t\t\t\t\t   num_ls=10, \n",
    "\t\t\t\t\t\t   monitor=False)\n",
    "\t\tbfs_ls = np.array(bfs_ls)\n",
    "\t\tdf = pd.DataFrame(bfs_ls.T)\n",
    "\t\tdf.to_csv(\"result/\" + \"small/\" + \"task_{0}_ls_popsize{1}_{2}\".format(i, pop_size, j))\n",
    "\n",
    "\n"
   ]
  },
  {
   "cell_type": "code",
   "execution_count": null,
   "id": "0973e71e",
   "metadata": {},
   "outputs": [
    {
     "name": "stderr",
     "output_type": "stream",
     "text": [
      "100%|██████████| 10/10 [00:28<00:00,  2.90s/it]\n",
      "100%|██████████| 10/10 [00:32<00:00,  3.25s/it]\n",
      "100%|██████████| 10/10 [00:28<00:00,  2.89s/it]\n",
      " 90%|█████████ | 9/10 [00:20<00:02,  2.30s/it]\n"
     ]
    },
    {
     "ename": "KeyboardInterrupt",
     "evalue": "",
     "output_type": "error",
     "traceback": [
      "\u001b[1;31m---------------------------------------------------------------------------\u001b[0m",
      "\u001b[1;31mKeyboardInterrupt\u001b[0m                         Traceback (most recent call last)",
      "Cell \u001b[1;32mIn[19], line 12\u001b[0m\n\u001b[0;32m      6\u001b[0m pop_size \u001b[38;5;241m=\u001b[39m \u001b[38;5;241m200\u001b[39m\n\u001b[0;32m      7\u001b[0m model \u001b[38;5;241m=\u001b[39m Model(pop_size\u001b[38;5;241m=\u001b[39mpop_size, \n\u001b[0;32m      8\u001b[0m \t\ttask\u001b[38;5;241m=\u001b[39msmall_task, \n\u001b[0;32m      9\u001b[0m \t\tcrossover\u001b[38;5;241m=\u001b[39mTwoCutCrossover(), \n\u001b[0;32m     10\u001b[0m \t\tmutation\u001b[38;5;241m=\u001b[39mInsertionMutation(), \n\u001b[0;32m     11\u001b[0m \t\tlocalsearch\u001b[38;5;241m=\u001b[39mSimpleLocalSearch())\n\u001b[1;32m---> 12\u001b[0m bfs, _ \u001b[38;5;241m=\u001b[39m \u001b[43mmodel\u001b[49m\u001b[38;5;241;43m.\u001b[39;49m\u001b[43mfit\u001b[49m\u001b[43m(\u001b[49m\u001b[43mnum_gen\u001b[49m\u001b[38;5;241;43m=\u001b[39;49m\u001b[38;5;241;43m100\u001b[39;49m\u001b[43m,\u001b[49m\u001b[43m \u001b[49m\n\u001b[0;32m     13\u001b[0m \u001b[43m\t\t\t\t   \u001b[49m\u001b[43mnum_crossover\u001b[49m\u001b[38;5;241;43m=\u001b[39;49m\u001b[38;5;241;43m100\u001b[39;49m\u001b[43m,\u001b[49m\u001b[43m \u001b[49m\n\u001b[0;32m     14\u001b[0m \u001b[43m\t\t\t\t   \u001b[49m\u001b[43mnum_mutation\u001b[49m\u001b[38;5;241;43m=\u001b[39;49m\u001b[38;5;241;43m5\u001b[39;49m\u001b[43m,\u001b[49m\u001b[43m \u001b[49m\n\u001b[0;32m     15\u001b[0m \u001b[43m\t\t\t\t   \u001b[49m\u001b[43mnum_ls\u001b[49m\u001b[38;5;241;43m=\u001b[39;49m\u001b[38;5;241;43m0\u001b[39;49m\u001b[43m,\u001b[49m\u001b[43m \u001b[49m\n\u001b[0;32m     16\u001b[0m \u001b[43m\t\t\t\t   \u001b[49m\u001b[43mmonitor\u001b[49m\u001b[38;5;241;43m=\u001b[39;49m\u001b[38;5;28;43;01mFalse\u001b[39;49;00m\u001b[43m)\u001b[49m\n\u001b[0;32m     17\u001b[0m bfs \u001b[38;5;241m=\u001b[39m np\u001b[38;5;241m.\u001b[39marray(bfs)\n\u001b[0;32m     18\u001b[0m df \u001b[38;5;241m=\u001b[39m pd\u001b[38;5;241m.\u001b[39mDataFrame(bfs\u001b[38;5;241m.\u001b[39mT)\n",
      "File \u001b[1;32mc:\\Users\\madmo\\Workspace\\project2_supply_chain_optimize\\GA.py:47\u001b[0m, in \u001b[0;36mModel.fit\u001b[1;34m(self, num_gen, num_crossover, num_mutation, num_ls, monitor, monitor_rate)\u001b[0m\n\u001b[0;32m     45\u001b[0m pa \u001b[38;5;241m=\u001b[39m \u001b[38;5;28mself\u001b[39m\u001b[38;5;241m.\u001b[39mget_random_indi()\n\u001b[0;32m     46\u001b[0m pb \u001b[38;5;241m=\u001b[39m \u001b[38;5;28mself\u001b[39m\u001b[38;5;241m.\u001b[39mget_random_indi()\n\u001b[1;32m---> 47\u001b[0m oc \u001b[38;5;241m=\u001b[39m \u001b[38;5;28;43mself\u001b[39;49m\u001b[38;5;241;43m.\u001b[39;49m\u001b[43mcrossover\u001b[49m\u001b[43m(\u001b[49m\u001b[43mpa\u001b[49m\u001b[43m,\u001b[49m\u001b[43m \u001b[49m\u001b[43mpb\u001b[49m\u001b[43m)\u001b[49m \u001b[38;5;66;03m#crossover offspring\u001b[39;00m\n\u001b[0;32m     48\u001b[0m \u001b[38;5;28;01mwhile\u001b[39;00m oc\u001b[38;5;241m.\u001b[39mcheck_valid() \u001b[38;5;241m==\u001b[39m \u001b[38;5;28;01mFalse\u001b[39;00m:\n\u001b[0;32m     49\u001b[0m     oc\u001b[38;5;241m.\u001b[39mfix()\n",
      "File \u001b[1;32mc:\\Users\\madmo\\Workspace\\project2_supply_chain_optimize\\crossover\\twocut.py:32\u001b[0m, in \u001b[0;36mTwoCutCrossover.__call__\u001b[1;34m(self, pa, pb)\u001b[0m\n\u001b[0;32m     31\u001b[0m \u001b[38;5;28;01mdef\u001b[39;00m\u001b[38;5;250m \u001b[39m\u001b[38;5;21m__call__\u001b[39m(\u001b[38;5;28mself\u001b[39m, pa:Individual, pb:Individual) \u001b[38;5;241m-\u001b[39m\u001b[38;5;241m>\u001b[39m Individual:\n\u001b[1;32m---> 32\u001b[0m     \u001b[38;5;28;01mreturn\u001b[39;00m \u001b[38;5;28;43mself\u001b[39;49m\u001b[38;5;241;43m.\u001b[39;49m\u001b[43mcrossover\u001b[49m\u001b[43m(\u001b[49m\u001b[43mpa\u001b[49m\u001b[43m,\u001b[49m\u001b[43m \u001b[49m\u001b[43mpb\u001b[49m\u001b[43m)\u001b[49m\n",
      "File \u001b[1;32mc:\\Users\\madmo\\Workspace\\project2_supply_chain_optimize\\crossover\\twocut.py:14\u001b[0m, in \u001b[0;36mTwoCutCrossover.crossover\u001b[1;34m(self, pa, pb)\u001b[0m\n\u001b[0;32m     11\u001b[0m gene_o \u001b[38;5;241m=\u001b[39m gene_a\u001b[38;5;241m.\u001b[39mcopy()\n\u001b[0;32m     13\u001b[0m deli_types_o \u001b[38;5;241m=\u001b[39m pa\u001b[38;5;241m.\u001b[39mdeli_types\u001b[38;5;241m.\u001b[39mcopy()\n\u001b[1;32m---> 14\u001b[0m rnd \u001b[38;5;241m=\u001b[39m \u001b[43mnp\u001b[49m\u001b[38;5;241;43m.\u001b[39;49m\u001b[43mrandom\u001b[49m\u001b[38;5;241;43m.\u001b[39;49m\u001b[43muniform\u001b[49m\u001b[43m(\u001b[49m\u001b[43msize\u001b[49m\u001b[38;5;241;43m=\u001b[39;49m\u001b[43mdeli_types_o\u001b[49m\u001b[38;5;241;43m.\u001b[39;49m\u001b[43mshape\u001b[49m\u001b[43m)\u001b[49m\n\u001b[0;32m     15\u001b[0m deli_types_o[rnd \u001b[38;5;241m<\u001b[39m \u001b[38;5;241m0.5\u001b[39m] \u001b[38;5;241m=\u001b[39m pb\u001b[38;5;241m.\u001b[39mdeli_types[rnd \u001b[38;5;241m<\u001b[39m \u001b[38;5;241m0.5\u001b[39m]\n\u001b[0;32m     17\u001b[0m fi_cut : \u001b[38;5;28mint\u001b[39m \u001b[38;5;241m=\u001b[39m np\u001b[38;5;241m.\u001b[39mrandom\u001b[38;5;241m.\u001b[39mrandint(\u001b[38;5;241m0\u001b[39m, pa\u001b[38;5;241m.\u001b[39mtask\u001b[38;5;241m.\u001b[39mnum_customers) \u001b[38;5;241m*\u001b[39m \u001b[38;5;241m3\u001b[39m\n",
      "\u001b[1;31mKeyboardInterrupt\u001b[0m: "
     ]
    }
   ],
   "source": [
    "for i in range(5):\n",
    "\tsmall_task = load_small_task(i)\n",
    "\tfor j in tqdm(range(num_run)):\n",
    "\t\tnp.random.seed(j)\n",
    "\t\t# local search disable\n",
    "\t\tpop_size = 100\n",
    "\t\tmodel = Model(pop_size=pop_size, \n",
    "\t\t\t\ttask=small_task, \n",
    "\t\t\t\tcrossover=TwoCutCrossover(), \n",
    "\t\t\t\tmutation=InsertionMutation(), \n",
    "\t\t\t\tlocalsearch=SimpleLocalSearch())\n",
    "\t\tbfs, _ = model.fit(num_gen=100, \n",
    "\t\t\t\t\t\t   num_crossover=100, \n",
    "\t\t\t\t\t\t   num_mutation=5, \n",
    "\t\t\t\t\t\t   num_ls=0, \n",
    "\t\t\t\t\t\t   monitor=False)\n",
    "\t\tbfs = np.array(bfs)\n",
    "\t\tdf = pd.DataFrame(bfs.T)\n",
    "\t\tdf.to_csv(\"result/\" + \"small/\" + \"task_{0}_nols_popsize{1}_{2}\".format(i, pop_size, j))"
   ]
  }
 ],
 "metadata": {
  "kernelspec": {
   "display_name": "Python 3",
   "language": "python",
   "name": "python3"
  },
  "language_info": {
   "codemirror_mode": {
    "name": "ipython",
    "version": 3
   },
   "file_extension": ".py",
   "mimetype": "text/x-python",
   "name": "python",
   "nbconvert_exporter": "python",
   "pygments_lexer": "ipython3",
   "version": "3.9.12"
  }
 },
 "nbformat": 4,
 "nbformat_minor": 5
}
