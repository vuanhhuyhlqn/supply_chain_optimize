{
 "cells": [
  {
   "cell_type": "code",
   "execution_count": 1,
   "id": "f287d7ef",
   "metadata": {},
   "outputs": [],
   "source": [
    "%load_ext autoreload\n",
    "%autoreload 2\n",
    "import numpy as np\n",
    "import pandas as pd"
   ]
  },
  {
   "cell_type": "code",
   "execution_count": 4,
   "id": "3b2371a5",
   "metadata": {},
   "outputs": [],
   "source": [
    "pop_sizes = [100, 200]\n",
    "num_lss = [0, 10]"
   ]
  },
  {
   "cell_type": "markdown",
   "id": "984dda02",
   "metadata": {},
   "source": [
    "## Small task"
   ]
  },
  {
   "cell_type": "markdown",
   "id": "192920ee",
   "metadata": {},
   "source": [
    "### Two Cut Crossover"
   ]
  },
  {
   "cell_type": "code",
   "execution_count": null,
   "id": "cd990e4a",
   "metadata": {},
   "outputs": [
    {
     "name": "stdout",
     "output_type": "stream",
     "text": [
      "Small task 0 pop size 100 num ls 0 run 10 times average result: 210782.84545556823\n",
      "Small task 0 pop size 100 num ls 10 run 10 times average result: 211228.5464039917\n",
      "Small task 0 pop size 200 num ls 0 run 10 times average result: 208758.30372020512\n",
      "Small task 0 pop size 200 num ls 10 run 10 times average result: 208758.30372020512\n",
      "Small task 1 pop size 100 num ls 0 run 10 times average result: 535380.8093734994\n",
      "Small task 1 pop size 100 num ls 10 run 10 times average result: 521950.7718659455\n",
      "Small task 1 pop size 200 num ls 0 run 10 times average result: 519188.365964078\n",
      "Small task 1 pop size 200 num ls 10 run 10 times average result: 518745.9523656837\n",
      "Small task 2 pop size 100 num ls 0 run 10 times average result: 530370.4925404474\n",
      "Small task 2 pop size 100 num ls 10 run 10 times average result: 525374.0069609454\n",
      "Small task 2 pop size 200 num ls 0 run 10 times average result: 518706.5708370516\n",
      "Small task 2 pop size 200 num ls 10 run 10 times average result: 520341.8889525066\n",
      "Small task 3 pop size 100 num ls 0 run 10 times average result: 412012.17942362546\n",
      "Small task 3 pop size 100 num ls 10 run 10 times average result: 411354.1802404458\n",
      "Small task 3 pop size 200 num ls 0 run 10 times average result: 411194.4260642043\n",
      "Small task 3 pop size 200 num ls 10 run 10 times average result: 412702.98268464964\n",
      "Small task 4 pop size 100 num ls 0 run 10 times average result: 493257.9371792052\n",
      "Small task 4 pop size 100 num ls 10 run 10 times average result: 492668.710608184\n",
      "Small task 4 pop size 200 num ls 0 run 10 times average result: 483917.7088131571\n",
      "Small task 4 pop size 200 num ls 10 run 10 times average result: 484178.91339614417\n"
     ]
    }
   ],
   "source": [
    "for task_id in range(5):\n",
    "\tfor pop_size in pop_sizes:\n",
    "\t\tfor num_ls in num_lss:\n",
    "\t\t\ttotal = 0\n",
    "\t\t\tfor num_run in range(10):\n",
    "\t\t\t\tfile_name = \"result/twocut/small/\" + \"task_{0}_popsize{1}_numls{2}_{3}\".format(task_id, pop_size, num_ls, num_run)\n",
    "\t\t\t\tdf = pd.read_csv(file_name)\n",
    "\t\t\t\t# print(file_name)\n",
    "\t\t\t\t# print(df.iloc[-1, 1])\n",
    "\t\t\t\tres = df.iloc[-1, 1]\n",
    "\t\t\t\ttotal += res\n",
    "\t\t\tavg = total / 10\n",
    "\t\t\tprint(\"Small task {0} pop size {1} num ls {2} run 10 times, average result: {3}\".format(task_id, pop_size, num_ls, avg))"
   ]
  }
 ],
 "metadata": {
  "kernelspec": {
   "display_name": "Python 3",
   "language": "python",
   "name": "python3"
  },
  "language_info": {
   "codemirror_mode": {
    "name": "ipython",
    "version": 3
   },
   "file_extension": ".py",
   "mimetype": "text/x-python",
   "name": "python",
   "nbconvert_exporter": "python",
   "pygments_lexer": "ipython3",
   "version": "3.9.12"
  }
 },
 "nbformat": 4,
 "nbformat_minor": 5
}
